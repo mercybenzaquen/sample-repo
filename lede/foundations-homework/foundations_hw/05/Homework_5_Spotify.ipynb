{
 "cells": [
  {
   "cell_type": "code",
   "execution_count": 3,
   "metadata": {
    "collapsed": false
   },
   "outputs": [
    {
     "name": "stdout",
     "output_type": "stream",
     "text": [
      "Requirement already satisfied (use --upgrade to upgrade): requests in /Users/mercybenzaquen/.virtualenvs/Homework5/lib/python3.5/site-packages\r\n"
     ]
    }
   ],
   "source": [
    "!pip3 install requests"
   ]
  },
  {
   "cell_type": "code",
   "execution_count": 4,
   "metadata": {
    "collapsed": false
   },
   "outputs": [
    {
     "name": "stdout",
     "output_type": "stream",
     "text": [
      "dict_keys(['artists'])\n"
     ]
    }
   ],
   "source": [
    "import requests\n",
    "response = requests.get('https://api.spotify.com/v1/search?q=Lil&type=artist&market=US&limit=50')\n",
    "Lil = response.json()\n",
    "print(Lil.keys())"
   ]
  },
  {
   "cell_type": "code",
   "execution_count": 5,
   "metadata": {
    "collapsed": false
   },
   "outputs": [
    {
     "name": "stdout",
     "output_type": "stream",
     "text": [
      "<class 'dict'>\n"
     ]
    }
   ],
   "source": [
    "print(type(Lil['artists']))"
   ]
  },
  {
   "cell_type": "code",
   "execution_count": 6,
   "metadata": {
    "collapsed": false
   },
   "outputs": [
    {
     "name": "stdout",
     "output_type": "stream",
     "text": [
      "dict_keys(['limit', 'items', 'href', 'next', 'offset', 'total', 'previous'])\n"
     ]
    }
   ],
   "source": [
    "print(Lil['artists'].keys())"
   ]
  },
  {
   "cell_type": "code",
   "execution_count": 7,
   "metadata": {
    "collapsed": true
   },
   "outputs": [],
   "source": [
    "Lil_info = Lil['artists']['items']"
   ]
  },
  {
   "cell_type": "code",
   "execution_count": 8,
   "metadata": {
    "collapsed": false
   },
   "outputs": [
    {
     "name": "stdout",
     "output_type": "stream",
     "text": [
      "<class 'list'>\n"
     ]
    }
   ],
   "source": [
    "print(type(Lil_info))"
   ]
  },
  {
   "cell_type": "code",
   "execution_count": 9,
   "metadata": {
    "collapsed": false
   },
   "outputs": [
    {
     "name": "stdout",
     "output_type": "stream",
     "text": [
      "{'type': 'artist', 'id': '6icQOAFXDZKsumw3YXyusw', 'uri': 'spotify:artist:6icQOAFXDZKsumw3YXyusw', 'href': 'https://api.spotify.com/v1/artists/6icQOAFXDZKsumw3YXyusw', 'genres': [], 'name': 'Lil Yachty', 'external_urls': {'spotify': 'https://open.spotify.com/artist/6icQOAFXDZKsumw3YXyusw'}, 'followers': {'total': 39006, 'href': None}, 'popularity': 72, 'images': [{'url': 'https://i.scdn.co/image/add25baa69fc7bfd9cfd5d87716941028c2d6736', 'width': 640, 'height': 640}, {'url': 'https://i.scdn.co/image/3f8205117bdd028a648ad3fc925f9fb46dfa26fa', 'width': 300, 'height': 300}, {'url': 'https://i.scdn.co/image/ccc54e2911dbc5463acb401ee61489e27d991408', 'width': 64, 'height': 64}]}\n"
     ]
    }
   ],
   "source": [
    "print(Lil_info[1])"
   ]
  },
  {
   "cell_type": "markdown",
   "metadata": {},
   "source": [
    "# 1# Do a search and print a list of 50 that are playable in the USA (or the country of your choice), along with their popularity score. What genres are most represented in the search results? Edit your previous printout to also display a list of their genres in the format \"GENRE_1, GENRE_2, GENRE_3\". If there are no genres, print \"No genres listed\"."
   ]
  },
  {
   "cell_type": "code",
   "execution_count": 10,
   "metadata": {
    "collapsed": false
   },
   "outputs": [
    {
     "name": "stdout",
     "output_type": "stream",
     "text": [
      "Lil Wayne 86 Genre: dirty south rap, pop rap, southern hip hop, trap music\n",
      "Lil Yachty 72 Genre: \n",
      "No genres listed\n",
      "Lil Uzi Vert 73 Genre: \n",
      "No genres listed\n",
      "Lil Dicky 68 Genre: \n",
      "No genres listed\n",
      "Boosie Badazz 67 Genre: \n",
      "No genres listed\n",
      "Lil Jon 72 Genre: crunk, dirty south rap, southern hip hop\n",
      "King Lil G 61 Genre: \n",
      "No genres listed\n",
      "Lil Durk 60 Genre: \n",
      "No genres listed\n",
      "Lil Jon & The East Side Boyz 60 Genre: \n",
      "No genres listed\n",
      "Lil Bibby 54 Genre: \n",
      "No genres listed\n",
      "G Herbo 53 Genre: \n",
      "No genres listed\n",
      "Lil Rob 50 Genre: chicano rap, latin hip hop\n",
      "Lil Reese 50 Genre: \n",
      "No genres listed\n",
      "Lil Keke 48 Genre: \n",
      "No genres listed\n",
      "Bow Wow 57 Genre: hip pop, pop rap\n",
      "Lil Scrappy 48 Genre: crunk, dirty south rap, southern hip hop, trap music\n",
      "Lil Wyte 50 Genre: juggalo\n",
      "Lil Blood 45 Genre: \n",
      "No genres listed\n",
      "Lil Snupe 45 Genre: \n",
      "No genres listed\n",
      "Lil Mama 45 Genre: hip pop\n",
      "Lil B 44 Genre: \n",
      "No genres listed\n",
      "Lil' Kim 62 Genre: hip pop\n",
      "Lil Cuete 40 Genre: chicano rap\n",
      "Lil Phat 39 Genre: \n",
      "No genres listed\n",
      "Lil Debbie 43 Genre: \n",
      "No genres listed\n",
      "Lil Twist 39 Genre: jerk\n",
      "Lil Trill 37 Genre: deep trap\n",
      "Lil Boom 39 Genre: \n",
      "No genres listed\n",
      "Lil Twon 37 Genre: \n",
      "No genres listed\n",
      "Lil AJ 37 Genre: \n",
      "No genres listed\n",
      "Lil Lonnie 37 Genre: \n",
      "No genres listed\n",
      "Lil Goofy 35 Genre: \n",
      "No genres listed\n",
      "Lil Haiti 36 Genre: \n",
      "No genres listed\n",
      "Mr. Lil One 36 Genre: chicano rap\n",
      "Lil Cray 35 Genre: \n",
      "No genres listed\n",
      "Lil Flash 38 Genre: \n",
      "No genres listed\n",
      "Lil Silva 43 Genre: \n",
      "No genres listed\n",
      "Lil Kesh 39 Genre: \n",
      "No genres listed\n",
      "Lil Rue 34 Genre: \n",
      "No genres listed\n",
      "Lil Yase 34 Genre: \n",
      "No genres listed\n",
      "Lil Eddie 41 Genre: \n",
      "No genres listed\n",
      "Lil Wayne, DJ Drama 35 Genre: \n",
      "No genres listed\n",
      "Lil Suzy 34 Genre: freestyle\n",
      "Lil Mouse 34 Genre: \n",
      "No genres listed\n",
      "Lil C 33 Genre: \n",
      "No genres listed\n",
      "Lil Rick 39 Genre: soca\n",
      "Lil June 32 Genre: \n",
      "No genres listed\n",
      "Lil E 34 Genre: \n",
      "No genres listed\n",
      "Lil Fate 34 Genre: \n",
      "No genres listed\n",
      "Lil' Flip 49 Genre: crunk, dirty south rap\n"
     ]
    }
   ],
   "source": [
    "for every_lil in Lil_info:\n",
    "    print(every_lil['name'], every_lil['popularity'],\"Genre:\",(\", \".join(every_lil['genres'])))\n",
    "    if every_lil['genres'] == []:\n",
    "        print(\"No genres listed\")"
   ]
  },
  {
   "cell_type": "markdown",
   "metadata": {
    "collapsed": false
   },
   "source": [
    "# 2) What genres are most represented in the search results? "
   ]
  },
  {
   "cell_type": "code",
   "execution_count": 13,
   "metadata": {
    "collapsed": false
   },
   "outputs": [
    {
     "name": "stdout",
     "output_type": "stream",
     "text": [
      "['crunk', 'dirty south rap', 'soca', 'freestyle', 'chicano rap', 'deep trap', 'jerk', 'chicano rap', 'hip pop', 'hip pop', 'juggalo', 'crunk', 'dirty south rap', 'southern hip hop', 'trap music', 'hip pop', 'pop rap', 'chicano rap', 'latin hip hop', 'crunk', 'dirty south rap', 'southern hip hop', 'dirty south rap', 'pop rap', 'southern hip hop', 'trap music']\n",
      "freestyle 1\n",
      "pop rap 2\n",
      "jerk 1\n",
      "deep trap 1\n",
      "juggalo 1\n",
      "dirty south rap 4\n",
      "chicano rap 3\n",
      "hip pop 3\n",
      "soca 1\n",
      "southern hip hop 3\n",
      "latin hip hop 1\n",
      "crunk 3\n",
      "trap music 2\n"
     ]
    }
   ],
   "source": [
    "genres = []\n",
    "for item in Lil_info:\n",
    "    genres = item['genres'] + genres\n",
    "print(genres)\n",
    "\n",
    "unique_genres = set(genres)\n",
    "for every_genre in unique_genres:\n",
    "\n",
    "    print(every_genre , genres.count(every_genre))\n",
    "    \n",
    "\n",
    "#genre_name = set(every_genre)\n",
    "#genre_number = set(genres.count(every_genre))\n",
    "    #print(genre_name)\n",
    "       \n",
    "       "
   ]
  },
  {
   "cell_type": "code",
   "execution_count": 54,
   "metadata": {
    "collapsed": false
   },
   "outputs": [],
   "source": [
    "#this is the other option I did it with soma's help\n",
    "from collections import Counter\n",
    "\n",
    "# genres is a long list of genres with a lot repeats\n",
    "genre_counter = Counter(genres)\n",
    "genre_counter\n",
    "\n",
    "counts = Counter(all_genres)\n",
    "counts.most_common(1)\n"
   ]
  },
  {
   "cell_type": "code",
   "execution_count": 15,
   "metadata": {
    "collapsed": false
   },
   "outputs": [
    {
     "data": {
      "text/plain": [
       "[('dirty south rap', 4), ('chicano rap', 3), ('hip pop', 3)]"
      ]
     },
     "execution_count": 15,
     "metadata": {},
     "output_type": "execute_result"
    }
   ],
   "source": [
    "genre_counter.most_common(3)"
   ]
  },
  {
   "cell_type": "code",
   "execution_count": 16,
   "metadata": {
    "collapsed": true
   },
   "outputs": [],
   "source": [
    "#class review. Other option:"
   ]
  },
  {
   "cell_type": "code",
   "execution_count": 17,
   "metadata": {
    "collapsed": false,
    "scrolled": true
   },
   "outputs": [
    {
     "name": "stdout",
     "output_type": "stream",
     "text": [
      "All genres we have []\n",
      "Current artist has ['dirty south rap', 'pop rap', 'southern hip hop', 'trap music']\n",
      "All genres we have ['dirty south rap', 'pop rap', 'southern hip hop', 'trap music']\n",
      "Current artist has []\n",
      "All genres we have ['dirty south rap', 'pop rap', 'southern hip hop', 'trap music']\n",
      "Current artist has []\n",
      "All genres we have ['dirty south rap', 'pop rap', 'southern hip hop', 'trap music']\n",
      "Current artist has []\n",
      "All genres we have ['dirty south rap', 'pop rap', 'southern hip hop', 'trap music']\n",
      "Current artist has []\n",
      "All genres we have ['dirty south rap', 'pop rap', 'southern hip hop', 'trap music']\n",
      "Current artist has ['crunk', 'dirty south rap', 'southern hip hop']\n",
      "All genres we have ['dirty south rap', 'pop rap', 'southern hip hop', 'trap music', 'crunk', 'dirty south rap', 'southern hip hop']\n",
      "Current artist has []\n",
      "All genres we have ['dirty south rap', 'pop rap', 'southern hip hop', 'trap music', 'crunk', 'dirty south rap', 'southern hip hop']\n",
      "Current artist has []\n",
      "All genres we have ['dirty south rap', 'pop rap', 'southern hip hop', 'trap music', 'crunk', 'dirty south rap', 'southern hip hop']\n",
      "Current artist has []\n",
      "All genres we have ['dirty south rap', 'pop rap', 'southern hip hop', 'trap music', 'crunk', 'dirty south rap', 'southern hip hop']\n",
      "Current artist has []\n",
      "All genres we have ['dirty south rap', 'pop rap', 'southern hip hop', 'trap music', 'crunk', 'dirty south rap', 'southern hip hop']\n",
      "Current artist has []\n",
      "All genres we have ['dirty south rap', 'pop rap', 'southern hip hop', 'trap music', 'crunk', 'dirty south rap', 'southern hip hop']\n",
      "Current artist has ['chicano rap', 'latin hip hop']\n",
      "All genres we have ['dirty south rap', 'pop rap', 'southern hip hop', 'trap music', 'crunk', 'dirty south rap', 'southern hip hop', 'chicano rap', 'latin hip hop']\n",
      "Current artist has []\n",
      "All genres we have ['dirty south rap', 'pop rap', 'southern hip hop', 'trap music', 'crunk', 'dirty south rap', 'southern hip hop', 'chicano rap', 'latin hip hop']\n",
      "Current artist has []\n",
      "All genres we have ['dirty south rap', 'pop rap', 'southern hip hop', 'trap music', 'crunk', 'dirty south rap', 'southern hip hop', 'chicano rap', 'latin hip hop']\n",
      "Current artist has ['hip pop', 'pop rap']\n",
      "All genres we have ['dirty south rap', 'pop rap', 'southern hip hop', 'trap music', 'crunk', 'dirty south rap', 'southern hip hop', 'chicano rap', 'latin hip hop', 'hip pop', 'pop rap']\n",
      "Current artist has ['crunk', 'dirty south rap', 'southern hip hop', 'trap music']\n",
      "All genres we have ['dirty south rap', 'pop rap', 'southern hip hop', 'trap music', 'crunk', 'dirty south rap', 'southern hip hop', 'chicano rap', 'latin hip hop', 'hip pop', 'pop rap', 'crunk', 'dirty south rap', 'southern hip hop', 'trap music']\n",
      "Current artist has ['juggalo']\n",
      "All genres we have ['dirty south rap', 'pop rap', 'southern hip hop', 'trap music', 'crunk', 'dirty south rap', 'southern hip hop', 'chicano rap', 'latin hip hop', 'hip pop', 'pop rap', 'crunk', 'dirty south rap', 'southern hip hop', 'trap music', 'juggalo']\n",
      "Current artist has []\n",
      "All genres we have ['dirty south rap', 'pop rap', 'southern hip hop', 'trap music', 'crunk', 'dirty south rap', 'southern hip hop', 'chicano rap', 'latin hip hop', 'hip pop', 'pop rap', 'crunk', 'dirty south rap', 'southern hip hop', 'trap music', 'juggalo']\n",
      "Current artist has []\n",
      "All genres we have ['dirty south rap', 'pop rap', 'southern hip hop', 'trap music', 'crunk', 'dirty south rap', 'southern hip hop', 'chicano rap', 'latin hip hop', 'hip pop', 'pop rap', 'crunk', 'dirty south rap', 'southern hip hop', 'trap music', 'juggalo']\n",
      "Current artist has ['hip pop']\n",
      "All genres we have ['dirty south rap', 'pop rap', 'southern hip hop', 'trap music', 'crunk', 'dirty south rap', 'southern hip hop', 'chicano rap', 'latin hip hop', 'hip pop', 'pop rap', 'crunk', 'dirty south rap', 'southern hip hop', 'trap music', 'juggalo', 'hip pop']\n",
      "Current artist has []\n",
      "All genres we have ['dirty south rap', 'pop rap', 'southern hip hop', 'trap music', 'crunk', 'dirty south rap', 'southern hip hop', 'chicano rap', 'latin hip hop', 'hip pop', 'pop rap', 'crunk', 'dirty south rap', 'southern hip hop', 'trap music', 'juggalo', 'hip pop']\n",
      "Current artist has ['hip pop']\n",
      "All genres we have ['dirty south rap', 'pop rap', 'southern hip hop', 'trap music', 'crunk', 'dirty south rap', 'southern hip hop', 'chicano rap', 'latin hip hop', 'hip pop', 'pop rap', 'crunk', 'dirty south rap', 'southern hip hop', 'trap music', 'juggalo', 'hip pop', 'hip pop']\n",
      "Current artist has ['chicano rap']\n",
      "All genres we have ['dirty south rap', 'pop rap', 'southern hip hop', 'trap music', 'crunk', 'dirty south rap', 'southern hip hop', 'chicano rap', 'latin hip hop', 'hip pop', 'pop rap', 'crunk', 'dirty south rap', 'southern hip hop', 'trap music', 'juggalo', 'hip pop', 'hip pop', 'chicano rap']\n",
      "Current artist has []\n",
      "All genres we have ['dirty south rap', 'pop rap', 'southern hip hop', 'trap music', 'crunk', 'dirty south rap', 'southern hip hop', 'chicano rap', 'latin hip hop', 'hip pop', 'pop rap', 'crunk', 'dirty south rap', 'southern hip hop', 'trap music', 'juggalo', 'hip pop', 'hip pop', 'chicano rap']\n",
      "Current artist has []\n",
      "All genres we have ['dirty south rap', 'pop rap', 'southern hip hop', 'trap music', 'crunk', 'dirty south rap', 'southern hip hop', 'chicano rap', 'latin hip hop', 'hip pop', 'pop rap', 'crunk', 'dirty south rap', 'southern hip hop', 'trap music', 'juggalo', 'hip pop', 'hip pop', 'chicano rap']\n",
      "Current artist has ['jerk']\n",
      "All genres we have ['dirty south rap', 'pop rap', 'southern hip hop', 'trap music', 'crunk', 'dirty south rap', 'southern hip hop', 'chicano rap', 'latin hip hop', 'hip pop', 'pop rap', 'crunk', 'dirty south rap', 'southern hip hop', 'trap music', 'juggalo', 'hip pop', 'hip pop', 'chicano rap', 'jerk']\n",
      "Current artist has ['deep trap']\n",
      "All genres we have ['dirty south rap', 'pop rap', 'southern hip hop', 'trap music', 'crunk', 'dirty south rap', 'southern hip hop', 'chicano rap', 'latin hip hop', 'hip pop', 'pop rap', 'crunk', 'dirty south rap', 'southern hip hop', 'trap music', 'juggalo', 'hip pop', 'hip pop', 'chicano rap', 'jerk', 'deep trap']\n",
      "Current artist has []\n",
      "All genres we have ['dirty south rap', 'pop rap', 'southern hip hop', 'trap music', 'crunk', 'dirty south rap', 'southern hip hop', 'chicano rap', 'latin hip hop', 'hip pop', 'pop rap', 'crunk', 'dirty south rap', 'southern hip hop', 'trap music', 'juggalo', 'hip pop', 'hip pop', 'chicano rap', 'jerk', 'deep trap']\n",
      "Current artist has []\n",
      "All genres we have ['dirty south rap', 'pop rap', 'southern hip hop', 'trap music', 'crunk', 'dirty south rap', 'southern hip hop', 'chicano rap', 'latin hip hop', 'hip pop', 'pop rap', 'crunk', 'dirty south rap', 'southern hip hop', 'trap music', 'juggalo', 'hip pop', 'hip pop', 'chicano rap', 'jerk', 'deep trap']\n",
      "Current artist has []\n",
      "All genres we have ['dirty south rap', 'pop rap', 'southern hip hop', 'trap music', 'crunk', 'dirty south rap', 'southern hip hop', 'chicano rap', 'latin hip hop', 'hip pop', 'pop rap', 'crunk', 'dirty south rap', 'southern hip hop', 'trap music', 'juggalo', 'hip pop', 'hip pop', 'chicano rap', 'jerk', 'deep trap']\n",
      "Current artist has []\n",
      "All genres we have ['dirty south rap', 'pop rap', 'southern hip hop', 'trap music', 'crunk', 'dirty south rap', 'southern hip hop', 'chicano rap', 'latin hip hop', 'hip pop', 'pop rap', 'crunk', 'dirty south rap', 'southern hip hop', 'trap music', 'juggalo', 'hip pop', 'hip pop', 'chicano rap', 'jerk', 'deep trap']\n",
      "Current artist has []\n",
      "All genres we have ['dirty south rap', 'pop rap', 'southern hip hop', 'trap music', 'crunk', 'dirty south rap', 'southern hip hop', 'chicano rap', 'latin hip hop', 'hip pop', 'pop rap', 'crunk', 'dirty south rap', 'southern hip hop', 'trap music', 'juggalo', 'hip pop', 'hip pop', 'chicano rap', 'jerk', 'deep trap']\n",
      "Current artist has []\n",
      "All genres we have ['dirty south rap', 'pop rap', 'southern hip hop', 'trap music', 'crunk', 'dirty south rap', 'southern hip hop', 'chicano rap', 'latin hip hop', 'hip pop', 'pop rap', 'crunk', 'dirty south rap', 'southern hip hop', 'trap music', 'juggalo', 'hip pop', 'hip pop', 'chicano rap', 'jerk', 'deep trap']\n",
      "Current artist has ['chicano rap']\n",
      "All genres we have ['dirty south rap', 'pop rap', 'southern hip hop', 'trap music', 'crunk', 'dirty south rap', 'southern hip hop', 'chicano rap', 'latin hip hop', 'hip pop', 'pop rap', 'crunk', 'dirty south rap', 'southern hip hop', 'trap music', 'juggalo', 'hip pop', 'hip pop', 'chicano rap', 'jerk', 'deep trap', 'chicano rap']\n",
      "Current artist has []\n",
      "All genres we have ['dirty south rap', 'pop rap', 'southern hip hop', 'trap music', 'crunk', 'dirty south rap', 'southern hip hop', 'chicano rap', 'latin hip hop', 'hip pop', 'pop rap', 'crunk', 'dirty south rap', 'southern hip hop', 'trap music', 'juggalo', 'hip pop', 'hip pop', 'chicano rap', 'jerk', 'deep trap', 'chicano rap']\n",
      "Current artist has []\n",
      "All genres we have ['dirty south rap', 'pop rap', 'southern hip hop', 'trap music', 'crunk', 'dirty south rap', 'southern hip hop', 'chicano rap', 'latin hip hop', 'hip pop', 'pop rap', 'crunk', 'dirty south rap', 'southern hip hop', 'trap music', 'juggalo', 'hip pop', 'hip pop', 'chicano rap', 'jerk', 'deep trap', 'chicano rap']\n",
      "Current artist has []\n",
      "All genres we have ['dirty south rap', 'pop rap', 'southern hip hop', 'trap music', 'crunk', 'dirty south rap', 'southern hip hop', 'chicano rap', 'latin hip hop', 'hip pop', 'pop rap', 'crunk', 'dirty south rap', 'southern hip hop', 'trap music', 'juggalo', 'hip pop', 'hip pop', 'chicano rap', 'jerk', 'deep trap', 'chicano rap']\n",
      "Current artist has []\n",
      "All genres we have ['dirty south rap', 'pop rap', 'southern hip hop', 'trap music', 'crunk', 'dirty south rap', 'southern hip hop', 'chicano rap', 'latin hip hop', 'hip pop', 'pop rap', 'crunk', 'dirty south rap', 'southern hip hop', 'trap music', 'juggalo', 'hip pop', 'hip pop', 'chicano rap', 'jerk', 'deep trap', 'chicano rap']\n",
      "Current artist has []\n",
      "All genres we have ['dirty south rap', 'pop rap', 'southern hip hop', 'trap music', 'crunk', 'dirty south rap', 'southern hip hop', 'chicano rap', 'latin hip hop', 'hip pop', 'pop rap', 'crunk', 'dirty south rap', 'southern hip hop', 'trap music', 'juggalo', 'hip pop', 'hip pop', 'chicano rap', 'jerk', 'deep trap', 'chicano rap']\n",
      "Current artist has []\n",
      "All genres we have ['dirty south rap', 'pop rap', 'southern hip hop', 'trap music', 'crunk', 'dirty south rap', 'southern hip hop', 'chicano rap', 'latin hip hop', 'hip pop', 'pop rap', 'crunk', 'dirty south rap', 'southern hip hop', 'trap music', 'juggalo', 'hip pop', 'hip pop', 'chicano rap', 'jerk', 'deep trap', 'chicano rap']\n",
      "Current artist has []\n",
      "All genres we have ['dirty south rap', 'pop rap', 'southern hip hop', 'trap music', 'crunk', 'dirty south rap', 'southern hip hop', 'chicano rap', 'latin hip hop', 'hip pop', 'pop rap', 'crunk', 'dirty south rap', 'southern hip hop', 'trap music', 'juggalo', 'hip pop', 'hip pop', 'chicano rap', 'jerk', 'deep trap', 'chicano rap']\n",
      "Current artist has []\n",
      "All genres we have ['dirty south rap', 'pop rap', 'southern hip hop', 'trap music', 'crunk', 'dirty south rap', 'southern hip hop', 'chicano rap', 'latin hip hop', 'hip pop', 'pop rap', 'crunk', 'dirty south rap', 'southern hip hop', 'trap music', 'juggalo', 'hip pop', 'hip pop', 'chicano rap', 'jerk', 'deep trap', 'chicano rap']\n",
      "Current artist has ['freestyle']\n",
      "All genres we have ['dirty south rap', 'pop rap', 'southern hip hop', 'trap music', 'crunk', 'dirty south rap', 'southern hip hop', 'chicano rap', 'latin hip hop', 'hip pop', 'pop rap', 'crunk', 'dirty south rap', 'southern hip hop', 'trap music', 'juggalo', 'hip pop', 'hip pop', 'chicano rap', 'jerk', 'deep trap', 'chicano rap', 'freestyle']\n",
      "Current artist has []\n",
      "All genres we have ['dirty south rap', 'pop rap', 'southern hip hop', 'trap music', 'crunk', 'dirty south rap', 'southern hip hop', 'chicano rap', 'latin hip hop', 'hip pop', 'pop rap', 'crunk', 'dirty south rap', 'southern hip hop', 'trap music', 'juggalo', 'hip pop', 'hip pop', 'chicano rap', 'jerk', 'deep trap', 'chicano rap', 'freestyle']\n",
      "Current artist has []\n",
      "All genres we have ['dirty south rap', 'pop rap', 'southern hip hop', 'trap music', 'crunk', 'dirty south rap', 'southern hip hop', 'chicano rap', 'latin hip hop', 'hip pop', 'pop rap', 'crunk', 'dirty south rap', 'southern hip hop', 'trap music', 'juggalo', 'hip pop', 'hip pop', 'chicano rap', 'jerk', 'deep trap', 'chicano rap', 'freestyle']\n",
      "Current artist has ['soca']\n",
      "All genres we have ['dirty south rap', 'pop rap', 'southern hip hop', 'trap music', 'crunk', 'dirty south rap', 'southern hip hop', 'chicano rap', 'latin hip hop', 'hip pop', 'pop rap', 'crunk', 'dirty south rap', 'southern hip hop', 'trap music', 'juggalo', 'hip pop', 'hip pop', 'chicano rap', 'jerk', 'deep trap', 'chicano rap', 'freestyle', 'soca']\n",
      "Current artist has []\n",
      "All genres we have ['dirty south rap', 'pop rap', 'southern hip hop', 'trap music', 'crunk', 'dirty south rap', 'southern hip hop', 'chicano rap', 'latin hip hop', 'hip pop', 'pop rap', 'crunk', 'dirty south rap', 'southern hip hop', 'trap music', 'juggalo', 'hip pop', 'hip pop', 'chicano rap', 'jerk', 'deep trap', 'chicano rap', 'freestyle', 'soca']\n",
      "Current artist has []\n",
      "All genres we have ['dirty south rap', 'pop rap', 'southern hip hop', 'trap music', 'crunk', 'dirty south rap', 'southern hip hop', 'chicano rap', 'latin hip hop', 'hip pop', 'pop rap', 'crunk', 'dirty south rap', 'southern hip hop', 'trap music', 'juggalo', 'hip pop', 'hip pop', 'chicano rap', 'jerk', 'deep trap', 'chicano rap', 'freestyle', 'soca']\n",
      "Current artist has []\n",
      "All genres we have ['dirty south rap', 'pop rap', 'southern hip hop', 'trap music', 'crunk', 'dirty south rap', 'southern hip hop', 'chicano rap', 'latin hip hop', 'hip pop', 'pop rap', 'crunk', 'dirty south rap', 'southern hip hop', 'trap music', 'juggalo', 'hip pop', 'hip pop', 'chicano rap', 'jerk', 'deep trap', 'chicano rap', 'freestyle', 'soca']\n",
      "Current artist has ['crunk', 'dirty south rap']\n",
      "!!!!All the genres we have are:\n",
      "['dirty south rap', 'pop rap', 'southern hip hop', 'trap music', 'crunk', 'dirty south rap', 'southern hip hop', 'chicano rap', 'latin hip hop', 'hip pop', 'pop rap', 'crunk', 'dirty south rap', 'southern hip hop', 'trap music', 'juggalo', 'hip pop', 'hip pop', 'chicano rap', 'jerk', 'deep trap', 'chicano rap', 'freestyle', 'soca', 'crunk', 'dirty south rap']\n"
     ]
    },
    {
     "data": {
      "text/plain": [
       "3"
      ]
     },
     "execution_count": 17,
     "metadata": {},
     "output_type": "execute_result"
    }
   ],
   "source": [
    "#aggregation problem\n",
    "\n",
    "all_genres = []\n",
    "\n",
    "for artist in Lil_info:\n",
    "    #conditional\n",
    "    print('All genres we have', all_genres)\n",
    "    print(\"Current artist has\", artist['genres'])\n",
    "    all_genres = all_genres + artist['genres']\n",
    "    \n",
    "print('!!!!All the genres we have are:')\n",
    "print(all_genres)\n",
    "\n",
    "all_genres.count(\"hip pop\")\n",
    "    \n",
    "    "
   ]
  },
  {
   "cell_type": "code",
   "execution_count": 18,
   "metadata": {
    "collapsed": false
   },
   "outputs": [
    {
     "name": "stdout",
     "output_type": "stream",
     "text": [
      "freestyle shows up 1 times\n",
      "pop rap shows up 2 times\n",
      "jerk shows up 1 times\n",
      "deep trap shows up 1 times\n",
      "juggalo shows up 1 times\n",
      "dirty south rap shows up 4 times\n",
      "chicano rap shows up 3 times\n",
      "hip pop shows up 3 times\n",
      "soca shows up 1 times\n",
      "southern hip hop shows up 3 times\n",
      "latin hip hop shows up 1 times\n",
      "crunk shows up 3 times\n",
      "trap music shows up 2 times\n"
     ]
    }
   ],
   "source": [
    "unique_genre = set(all_genres)\n",
    "for genre in unique_genres:\n",
    "    genre_count = all_genres.count(genre)\n",
    "    print(genre, \"shows up\", genre_count, \"times\")\n",
    "#we have to convert it into a set\n"
   ]
  },
  {
   "cell_type": "markdown",
   "metadata": {},
   "source": [
    "# 3 Use a for loop to determine who BESIDES Lil Wayne has the highest popularity rating. Is it the same artist who has the largest number of followers?"
   ]
  },
  {
   "cell_type": "code",
   "execution_count": 19,
   "metadata": {
    "collapsed": false
   },
   "outputs": [
    {
     "name": "stdout",
     "output_type": "stream",
     "text": [
      "Our second most popular artist is Lil Uzi Vert with a popularity score of 73\n"
     ]
    }
   ],
   "source": [
    "most_popular = 0\n",
    "artist_name = Lil\n",
    "for artist_popularity in Lil_info:\n",
    "    if artist_popularity['popularity'] == 86:\n",
    "        most_popular = most_popular\n",
    "        artist_name = artist_name\n",
    "    elif artist_popularity['popularity'] > most_popular:\n",
    "        most_popular = artist_popularity['popularity']\n",
    "        artist_name = artist_popularity['name']\n",
    "        \n",
    "print(\"Our second most popular artist is\", artist_name , \"with a popularity score of\", most_popular)\n",
    "\n"
   ]
  },
  {
   "cell_type": "code",
   "execution_count": 20,
   "metadata": {
    "collapsed": false
   },
   "outputs": [
    {
     "name": "stdout",
     "output_type": "stream",
     "text": [
      "Our artist with the most followers is not the most popular, it is Lil' Flip with  19931 followers\n"
     ]
    }
   ],
   "source": [
    "most_followers = 0\n",
    "artist_name = Lil\n",
    "for artist_followers in Lil_info:\n",
    "    if artist_followers['followers']['total'] > 0:\n",
    "        most_followers = artist_followers['followers']['total']\n",
    "        artist_name = artist_followers['name']\n",
    "    else:\n",
    "        most_followers = most_followers\n",
    "        artist_name = artist_name\n",
    "    \n",
    "print(\"Our artist with the most followers is not the most popular, it is\", artist_name , \"with \", most_followers, \"followers\")"
   ]
  },
  {
   "cell_type": "code",
   "execution_count": 21,
   "metadata": {
    "collapsed": true
   },
   "outputs": [],
   "source": [
    "#class review. Soma used ---> artist['name'] != 'Lil Wayne':\n"
   ]
  },
  {
   "cell_type": "code",
   "execution_count": 22,
   "metadata": {
    "collapsed": false
   },
   "outputs": [
    {
     "name": "stdout",
     "output_type": "stream",
     "text": [
      "Lil Uzi Vert 73\n"
     ]
    }
   ],
   "source": [
    "second_most_popular_name = \"\"\n",
    "second_most_popular_score = 0\n",
    "for artist in Lil_info:\n",
    "    #this is the conditional\n",
    "    if artist['popularity'] > second_most_popular_score and artist['name'] != 'Lil Wayne':\n",
    "    #these are the changes\n",
    "        second_most_popular_name = artist['name']\n",
    "        second_most_popular_score = artist['popularity']\n",
    "print(second_most_popular_name,second_most_popular_score)"
   ]
  },
  {
   "cell_type": "code",
   "execution_count": 23,
   "metadata": {
    "collapsed": true
   },
   "outputs": [],
   "source": [
    "#class review. he answered the question of what to do if two people have the same popularity scores"
   ]
  },
  {
   "cell_type": "code",
   "execution_count": 24,
   "metadata": {
    "collapsed": false
   },
   "outputs": [
    {
     "name": "stdout",
     "output_type": "stream",
     "text": [
      "Looking at Lil Wayne who has a popularity of 86\n",
      "Looking at Lil Yachty who has a popularity of 72\n",
      "!!!!!!!the artist popularity is 72\n",
      "Looking at Lil Uzi Vert who has a popularity of 73\n",
      "Looking at Lil Dicky who has a popularity of 68\n",
      "Looking at Boosie Badazz who has a popularity of 67\n",
      "Looking at Lil Jon who has a popularity of 72\n",
      "!!!!!!!the artist popularity is 72\n",
      "Looking at King Lil G who has a popularity of 61\n",
      "Looking at Lil Durk who has a popularity of 60\n",
      "Looking at Lil Jon & The East Side Boyz who has a popularity of 60\n",
      "Looking at Lil Bibby who has a popularity of 54\n",
      "Looking at G Herbo who has a popularity of 53\n",
      "Looking at Lil Rob who has a popularity of 50\n",
      "Looking at Lil Reese who has a popularity of 50\n",
      "Looking at Lil Keke who has a popularity of 48\n",
      "Looking at Bow Wow who has a popularity of 57\n",
      "Looking at Lil Scrappy who has a popularity of 48\n",
      "Looking at Lil Wyte who has a popularity of 50\n",
      "Looking at Lil Blood who has a popularity of 45\n",
      "Looking at Lil Snupe who has a popularity of 45\n",
      "Looking at Lil Mama who has a popularity of 45\n",
      "Looking at Lil B who has a popularity of 44\n",
      "Looking at Lil' Kim who has a popularity of 62\n",
      "Looking at Lil Cuete who has a popularity of 40\n",
      "Looking at Lil Phat who has a popularity of 39\n",
      "Looking at Lil Debbie who has a popularity of 43\n",
      "Looking at Lil Twist who has a popularity of 39\n",
      "Looking at Lil Trill who has a popularity of 37\n",
      "Looking at Lil Boom who has a popularity of 39\n",
      "Looking at Lil Twon who has a popularity of 37\n",
      "Looking at Lil AJ who has a popularity of 37\n",
      "Looking at Lil Lonnie who has a popularity of 37\n",
      "Looking at Lil Goofy who has a popularity of 35\n",
      "Looking at Lil Haiti who has a popularity of 36\n",
      "Looking at Mr. Lil One who has a popularity of 36\n",
      "Looking at Lil Cray who has a popularity of 35\n",
      "Looking at Lil Flash who has a popularity of 38\n",
      "Looking at Lil Silva who has a popularity of 43\n",
      "Looking at Lil Kesh who has a popularity of 39\n",
      "Looking at Lil Rue who has a popularity of 34\n",
      "Looking at Lil Yase who has a popularity of 34\n",
      "Looking at Lil Eddie who has a popularity of 41\n",
      "Looking at Lil Wayne, DJ Drama who has a popularity of 35\n",
      "Looking at Lil Suzy who has a popularity of 34\n",
      "Looking at Lil Mouse who has a popularity of 34\n",
      "Looking at Lil C who has a popularity of 33\n",
      "Looking at Lil Rick who has a popularity of 39\n",
      "Looking at Lil June who has a popularity of 32\n",
      "Looking at Lil E who has a popularity of 34\n",
      "Looking at Lil Fate who has a popularity of 34\n",
      "Looking at Lil' Flip who has a popularity of 49\n",
      "Our second best artists are:\n",
      "Lil Yachty\n",
      "Lil Jon\n"
     ]
    }
   ],
   "source": [
    "target_score = 72\n",
    "#initial condition\n",
    "\n",
    "second_best_artist = []\n",
    "for artist in Lil_info:\n",
    "    print(\"Looking at\", artist['name'], \"who has a popularity of\", artist['popularity'])\n",
    "    #conditional \n",
    "    if artist['popularity'] == 72:\n",
    "        #change, add new artist to the list where Lil Yatchy is already in. We do that with .append(new thing)\n",
    "        print(\"!!!!!!!the artist popularity is 72\")\n",
    "        second_best_artist.append(artist['name'])\n",
    "\n",
    "print(\"Our second best artists are:\")\n",
    "for artist in second_best_artist:\n",
    "    print(artist)"
   ]
  },
  {
   "cell_type": "markdown",
   "metadata": {},
   "source": [
    "# 4) Print a list of Lil's that are more popular than Lil' Kim."
   ]
  },
  {
   "cell_type": "code",
   "execution_count": 25,
   "metadata": {
    "collapsed": false
   },
   "outputs": [
    {
     "name": "stdout",
     "output_type": "stream",
     "text": [
      "Found Lil' Kim\n",
      "62\n"
     ]
    }
   ],
   "source": [
    "for artist in Lil_info:\n",
    "    #print(\"Looking at\", artist['name'])\n",
    "    if artist['name'] == \"Lil' Kim\":\n",
    "        print(\"Found Lil' Kim\")\n",
    "        print(artist['popularity'])\n",
    "    else:\n",
    "        pass #to keep it from breaking\n",
    "        #print(\"NOT Lil' Kim)"
   ]
  },
  {
   "cell_type": "code",
   "execution_count": 26,
   "metadata": {
    "collapsed": false
   },
   "outputs": [
    {
     "name": "stdout",
     "output_type": "stream",
     "text": [
      "Lil Wayne is more popular than Lil' Kim with a score of 86\n",
      "Lil Yachty is more popular than Lil' Kim with a score of 72\n",
      "Lil Uzi Vert is more popular than Lil' Kim with a score of 73\n",
      "Lil Dicky is more popular than Lil' Kim with a score of 68\n",
      "Boosie Badazz is more popular than Lil' Kim with a score of 67\n",
      "Lil Jon is more popular than Lil' Kim with a score of 72\n",
      "['Lil Wayne', 'Lil Yachty', 'Lil Uzi Vert', 'Lil Dicky', 'Boosie Badazz', 'Lil Jon']\n"
     ]
    }
   ],
   "source": [
    "#aggregation problem\n",
    "more_popular_lil_kim = []\n",
    "\n",
    "#the loop\n",
    "\n",
    "for artist in Lil_info:\n",
    "    #the conditional if artist is more popular than lil kim\n",
    "    if artist['popularity'] > 62:\n",
    "        print(artist['name'],\"is more popular than Lil' Kim with a score of\", artist['popularity'])\n",
    "        more_popular_lil_kim.append(artist['name'])\n",
    "print(more_popular_lil_kim)\n",
    "\n",
    "        "
   ]
  },
  {
   "cell_type": "code",
   "execution_count": 27,
   "metadata": {
    "collapsed": false
   },
   "outputs": [
    {
     "name": "stdout",
     "output_type": "stream",
     "text": [
      "Lil Wayne\n",
      "Lil Yachty\n",
      "Lil Uzi Vert\n",
      "Lil Dicky\n",
      "Boosie Badazz\n",
      "Lil Jon\n",
      "artists more popular than lil kim are: Lil Wayne, Lil Yachty, Lil Uzi Vert, Lil Dicky, Boosie Badazz, Lil Jon\n"
     ]
    }
   ],
   "source": [
    "for artist_name in more_popular_lil_kim:\n",
    "    print(artist_name)\n",
    "\n",
    "more_popular_string = \", \".join(more_popular_lil_kim)\n",
    "print(\"artists more popular than lil kim are:\", more_popular_string)"
   ]
  },
  {
   "cell_type": "markdown",
   "metadata": {},
   "source": [
    "# 5) Pick two of your favorite Lils to fight it out, and use their IDs to print out their top tracks.\n",
    "Tip: You're going to be making two separate requests, be sure you DO NOT save them into the same variable."
   ]
  },
  {
   "cell_type": "code",
   "execution_count": 28,
   "metadata": {
    "collapsed": false
   },
   "outputs": [
    {
     "name": "stdout",
     "output_type": "stream",
     "text": [
      "Lil Wayne ID: 55Aa2cqylxrFIXC767Z865\n",
      "Lil Yachty ID: 6icQOAFXDZKsumw3YXyusw\n",
      "Lil Uzi Vert ID: 4O15NlyKLIASxsJ0PrXPfz\n",
      "Lil Dicky ID: 1tqhsYv8yBBdwANFNzHtcr\n",
      "Boosie Badazz ID: 6z7xFFHxYkE9t8bwIF0Bvg\n",
      "Lil Jon ID: 7sfl4Xt5KmfyDs2T3SVSMK\n",
      "King Lil G ID: 6L3x3if9RVimruryD9LoFb\n",
      "Lil Durk ID: 3hcs9uc56yIGFCSy9leWe7\n",
      "Lil Jon & The East Side Boyz ID: 3ciRvbBIVz9fBoPbtSYq4x\n",
      "Lil Bibby ID: 4uSN8Y3kgFNVULUWsZEAVW\n",
      "G Herbo ID: 5QdEbQJ3ylBnc3gsIASAT5\n",
      "Lil Rob ID: 7B7TGqQe7QTVm2U6q8jzk1\n",
      "Lil Reese ID: 1bPxKZtCdjB1aj1csBJpdS\n",
      "Lil Keke ID: 1grI9x4Uzos1Asx8JmRW6T\n",
      "Bow Wow ID: 7352aRY2mqSxBZwzUb6LmA\n",
      "Lil Scrappy ID: 5einkgXXrjhfYCyac1FANB\n",
      "Lil Wyte ID: 21O7WwRkik43ErKppxDKJq\n",
      "Lil Blood ID: 74nSA5FdDOuuLw7Rn5JnuP\n",
      "Lil Snupe ID: 42FaEHFfyxTdZQ5W28dXnj\n",
      "Lil Mama ID: 5qK5bOC6wLtuLhG5KvU17c\n",
      "Lil B ID: 4dqh62yIzDBmrMeBOLiP5F\n",
      "Lil' Kim ID: 5tth2a3v0sWwV1C7bApBdX\n",
      "Lil Cuete ID: 1I5u5Umau1AgHl0ZbPL1oR\n",
      "Lil Phat ID: 3QnIBUOS4mUzs67rZ8r4c9\n",
      "Lil Debbie ID: 3FNZcjyqT7F5upP99JV0oN\n",
      "Lil Twist ID: 564gvOqSRcQoYAhaBpTiK2\n",
      "Lil Trill ID: 5EQERGi7ffHvHsv3bnqzBn\n",
      "Lil Boom ID: 1mmlWsyPJvvxMdabcGJjRn\n",
      "Lil Twon ID: 5YZZbPdI7P7te3lW3dTpzK\n",
      "Lil AJ ID: 2jXwYLNnCxNavms4mc1DYM\n",
      "Lil Lonnie ID: 6zSBkdKFLKKggDtE3amfCk\n",
      "Lil Goofy ID: 3rWaFjgOi5mjQfllMfN3VI\n",
      "Lil Haiti ID: 4E9dumwOMLlTyXUp1i2WdI\n",
      "Mr. Lil One ID: 6tslWi0BXiDdtChermDzkU\n",
      "Lil Cray ID: 43BqexhEx5NKF7VfeOYP9m\n",
      "Lil Flash ID: 069qBEK34YGoX7nSIT74Eg\n",
      "Lil Silva ID: 2Kv0ApBohrL213X9avMrEn\n",
      "Lil Kesh ID: 38XiDu0kK3Z5jdHUDqBzNT\n",
      "Lil Rue ID: 4IFVaKBbEO8Qkurg6nmoc4\n",
      "Lil Yase ID: 4vIlHBnzWKbmWe8ZOkT1ZT\n",
      "Lil Eddie ID: 5CY0QKsbUBpQJIE2yycsYi\n",
      "Lil Wayne, DJ Drama ID: 65npPa1U4cgobX9wU7Jgpb\n",
      "Lil Suzy ID: 5HPsVk1MblCoa44WLJsQwN\n",
      "Lil Mouse ID: 1cEHxCgGlEgqBc91YOcAEQ\n",
      "Lil C ID: 69swdLSkKxCQBMYJ55O2mA\n",
      "Lil Rick ID: 1qKzKUnuQsjB83hBZffoq0\n",
      "Lil June ID: 3GH3KD2078kLPpEkN1UN26\n",
      "Lil E ID: 0zn6yzsbWj3EPMgOTqfG5k\n",
      "Lil Fate ID: 6JUnsP7jmvYmdhbg7lTMQj\n",
      "Lil' Flip ID: 4Q5sPmM8j4SpMqL4UA1DtS\n"
     ]
    }
   ],
   "source": [
    "for two_lil in Lil_info:\n",
    "    print(two_lil['name'], \"ID:\", two_lil['id'])"
   ]
  },
  {
   "cell_type": "code",
   "execution_count": 29,
   "metadata": {
    "collapsed": false
   },
   "outputs": [
    {
     "name": "stdout",
     "output_type": "stream",
     "text": [
      "{'tracks': [{'uri': 'spotify:track:60FUCHW3nR5IIftByVjBmB', 'track_number': 7, 'external_urls': {'spotify': 'https://open.spotify.com/track/60FUCHW3nR5IIftByVjBmB'}, 'disc_number': 1, 'available_markets': ['CA', 'MX', 'US'], 'explicit': True, 'type': 'track', 'id': '60FUCHW3nR5IIftByVjBmB', 'href': 'https://api.spotify.com/v1/tracks/60FUCHW3nR5IIftByVjBmB', 'album': {'type': 'album', 'id': '57AbXDTvGGw2GDC6rrsH2m', 'uri': 'spotify:album:57AbXDTvGGw2GDC6rrsH2m', 'href': 'https://api.spotify.com/v1/albums/57AbXDTvGGw2GDC6rrsH2m', 'name': 'Ludacris Presents...Disturbing Tha Peace (Explicit Version)', 'album_type': 'album', 'external_urls': {'spotify': 'https://open.spotify.com/album/57AbXDTvGGw2GDC6rrsH2m'}, 'available_markets': ['CA', 'MX', 'US'], 'images': [{'url': 'https://i.scdn.co/image/624e4bd7bd0a5714d0bc44b30bf5667868365a9d', 'width': 640, 'height': 635}, {'url': 'https://i.scdn.co/image/f12f98e24945d6c47932878ce6eea91a7bd61f46', 'width': 300, 'height': 297}, {'url': 'https://i.scdn.co/image/21f753dee667340d202ee2a84be455f31b1c7ec6', 'width': 64, 'height': 63}]}, 'name': 'Break A N**a Off', 'preview_url': 'https://p.scdn.co/mp3-preview/19381ff72ed3a509ed19c72138d2471ce7d377d2', 'external_ids': {'isrc': 'USUM70506893'}, 'artists': [{'type': 'artist', 'id': '6JUnsP7jmvYmdhbg7lTMQj', 'uri': 'spotify:artist:6JUnsP7jmvYmdhbg7lTMQj', 'href': 'https://api.spotify.com/v1/artists/6JUnsP7jmvYmdhbg7lTMQj', 'name': 'Lil Fate', 'external_urls': {'spotify': 'https://open.spotify.com/artist/6JUnsP7jmvYmdhbg7lTMQj'}}, {'type': 'artist', 'id': '6mXlDbi03T8wXYwWYew0Ut', 'uri': 'spotify:artist:6mXlDbi03T8wXYwWYew0Ut', 'href': 'https://api.spotify.com/v1/artists/6mXlDbi03T8wXYwWYew0Ut', 'name': 'Rich Boy', 'external_urls': {'spotify': 'https://open.spotify.com/artist/6mXlDbi03T8wXYwWYew0Ut'}}, {'type': 'artist', 'id': '3ppZNqihWOzuH4A0f4KmeP', 'uri': 'spotify:artist:3ppZNqihWOzuH4A0f4KmeP', 'href': 'https://api.spotify.com/v1/artists/3ppZNqihWOzuH4A0f4KmeP', 'name': 'Gangsta Boo', 'external_urls': {'spotify': 'https://open.spotify.com/artist/3ppZNqihWOzuH4A0f4KmeP'}}], 'popularity': 20, 'duration_ms': 218026}]}\n"
     ]
    }
   ],
   "source": [
    "import requests\n",
    "response = requests.get('https://api.spotify.com/v1/artists/6JUnsP7jmvYmdhbg7lTMQj/top-tracks?country=US')\n",
    "lil_fate = response.json()\n",
    "\n",
    "print(lil_fate)"
   ]
  },
  {
   "cell_type": "code",
   "execution_count": 30,
   "metadata": {
    "collapsed": false
   },
   "outputs": [
    {
     "name": "stdout",
     "output_type": "stream",
     "text": [
      "<class 'dict'>\n"
     ]
    }
   ],
   "source": [
    "print(type(lil_fate))"
   ]
  },
  {
   "cell_type": "code",
   "execution_count": 31,
   "metadata": {
    "collapsed": false
   },
   "outputs": [
    {
     "name": "stdout",
     "output_type": "stream",
     "text": [
      "dict_keys(['tracks'])\n"
     ]
    }
   ],
   "source": [
    "print(lil_fate.keys())"
   ]
  },
  {
   "cell_type": "code",
   "execution_count": 32,
   "metadata": {
    "collapsed": false
   },
   "outputs": [
    {
     "name": "stdout",
     "output_type": "stream",
     "text": [
      "<class 'list'>\n"
     ]
    }
   ],
   "source": [
    "print(type(lil_fate['tracks']))"
   ]
  },
  {
   "cell_type": "code",
   "execution_count": 33,
   "metadata": {
    "collapsed": true
   },
   "outputs": [],
   "source": [
    "lil_fate_top_tracks = lil_fate['tracks']"
   ]
  },
  {
   "cell_type": "code",
   "execution_count": 34,
   "metadata": {
    "collapsed": false
   },
   "outputs": [
    {
     "name": "stdout",
     "output_type": "stream",
     "text": [
      "[{'uri': 'spotify:track:60FUCHW3nR5IIftByVjBmB', 'track_number': 7, 'external_urls': {'spotify': 'https://open.spotify.com/track/60FUCHW3nR5IIftByVjBmB'}, 'disc_number': 1, 'available_markets': ['CA', 'MX', 'US'], 'explicit': True, 'type': 'track', 'id': '60FUCHW3nR5IIftByVjBmB', 'href': 'https://api.spotify.com/v1/tracks/60FUCHW3nR5IIftByVjBmB', 'album': {'type': 'album', 'id': '57AbXDTvGGw2GDC6rrsH2m', 'uri': 'spotify:album:57AbXDTvGGw2GDC6rrsH2m', 'href': 'https://api.spotify.com/v1/albums/57AbXDTvGGw2GDC6rrsH2m', 'name': 'Ludacris Presents...Disturbing Tha Peace (Explicit Version)', 'album_type': 'album', 'external_urls': {'spotify': 'https://open.spotify.com/album/57AbXDTvGGw2GDC6rrsH2m'}, 'available_markets': ['CA', 'MX', 'US'], 'images': [{'url': 'https://i.scdn.co/image/624e4bd7bd0a5714d0bc44b30bf5667868365a9d', 'width': 640, 'height': 635}, {'url': 'https://i.scdn.co/image/f12f98e24945d6c47932878ce6eea91a7bd61f46', 'width': 300, 'height': 297}, {'url': 'https://i.scdn.co/image/21f753dee667340d202ee2a84be455f31b1c7ec6', 'width': 64, 'height': 63}]}, 'name': 'Break A N**a Off', 'preview_url': 'https://p.scdn.co/mp3-preview/19381ff72ed3a509ed19c72138d2471ce7d377d2', 'external_ids': {'isrc': 'USUM70506893'}, 'artists': [{'type': 'artist', 'id': '6JUnsP7jmvYmdhbg7lTMQj', 'uri': 'spotify:artist:6JUnsP7jmvYmdhbg7lTMQj', 'href': 'https://api.spotify.com/v1/artists/6JUnsP7jmvYmdhbg7lTMQj', 'name': 'Lil Fate', 'external_urls': {'spotify': 'https://open.spotify.com/artist/6JUnsP7jmvYmdhbg7lTMQj'}}, {'type': 'artist', 'id': '6mXlDbi03T8wXYwWYew0Ut', 'uri': 'spotify:artist:6mXlDbi03T8wXYwWYew0Ut', 'href': 'https://api.spotify.com/v1/artists/6mXlDbi03T8wXYwWYew0Ut', 'name': 'Rich Boy', 'external_urls': {'spotify': 'https://open.spotify.com/artist/6mXlDbi03T8wXYwWYew0Ut'}}, {'type': 'artist', 'id': '3ppZNqihWOzuH4A0f4KmeP', 'uri': 'spotify:artist:3ppZNqihWOzuH4A0f4KmeP', 'href': 'https://api.spotify.com/v1/artists/3ppZNqihWOzuH4A0f4KmeP', 'name': 'Gangsta Boo', 'external_urls': {'spotify': 'https://open.spotify.com/artist/3ppZNqihWOzuH4A0f4KmeP'}}], 'popularity': 20, 'duration_ms': 218026}]\n"
     ]
    }
   ],
   "source": [
    "print(lil_fate_top_tracks)"
   ]
  },
  {
   "cell_type": "code",
   "execution_count": 35,
   "metadata": {
    "collapsed": false
   },
   "outputs": [
    {
     "name": "stdout",
     "output_type": "stream",
     "text": [
      "Lil Fate top track is/are Break A N**a Off\n"
     ]
    }
   ],
   "source": [
    "for top_tracks in lil_fate_top_tracks:\n",
    "    print(\"Lil Fate top track is/are\", top_tracks['name'])"
   ]
  },
  {
   "cell_type": "code",
   "execution_count": 36,
   "metadata": {
    "collapsed": false
   },
   "outputs": [
    {
     "name": "stdout",
     "output_type": "stream",
     "text": [
      "<class 'dict'>\n"
     ]
    }
   ],
   "source": [
    "import requests\n",
    "response = requests.get('https://api.spotify.com/v1/artists/6L3x3if9RVimruryD9LoFb/top-tracks?country=US')\n",
    "king_lil = response.json()\n",
    "\n",
    "print(type(king_lil))"
   ]
  },
  {
   "cell_type": "code",
   "execution_count": 37,
   "metadata": {
    "collapsed": false
   },
   "outputs": [
    {
     "name": "stdout",
     "output_type": "stream",
     "text": [
      "dict_keys(['tracks'])\n"
     ]
    }
   ],
   "source": [
    "print(king_lil.keys())"
   ]
  },
  {
   "cell_type": "code",
   "execution_count": 38,
   "metadata": {
    "collapsed": false
   },
   "outputs": [
    {
     "name": "stdout",
     "output_type": "stream",
     "text": [
      "[{'uri': 'spotify:track:45f8NLNAthLQqji8lRVuOV', 'track_number': 1, 'external_urls': {'spotify': 'https://open.spotify.com/track/45f8NLNAthLQqji8lRVuOV'}, 'disc_number': 1, 'available_markets': ['AR', 'AU', 'AT', 'BE', 'BO', 'BR', 'BG', 'CA', 'CL', 'CO', 'CR', 'CY', 'CZ', 'DK', 'DO', 'DE', 'EC', 'EE', 'SV', 'FI', 'FR', 'GR', 'GT', 'HN', 'HK', 'HU', 'IS', 'IE', 'IT', 'LV', 'LT', 'LU', 'MY', 'MT', 'MX', 'NL', 'NZ', 'NI', 'NO', 'PA', 'PY', 'PE', 'PH', 'PL', 'PT', 'SG', 'SK', 'ES', 'SE', 'CH', 'TW', 'TR', 'UY', 'US', 'GB', 'AD', 'LI', 'MC', 'ID'], 'explicit': True, 'type': 'track', 'id': '45f8NLNAthLQqji8lRVuOV', 'href': 'https://api.spotify.com/v1/tracks/45f8NLNAthLQqji8lRVuOV', 'album': {'type': 'album', 'id': '3XHnTdk5nmiI9BXNXimEBG', 'uri': 'spotify:album:3XHnTdk5nmiI9BXNXimEBG', 'href': 'https://api.spotify.com/v1/albums/3XHnTdk5nmiI9BXNXimEBG', 'name': 'Ak47boyz', 'album_type': 'album', 'external_urls': {'spotify': 'https://open.spotify.com/album/3XHnTdk5nmiI9BXNXimEBG'}, 'available_markets': ['AR', 'AU', 'AT', 'BE', 'BO', 'BR', 'BG', 'CA', 'CL', 'CO', 'CR', 'CY', 'CZ', 'DK', 'DO', 'DE', 'EC', 'EE', 'SV', 'FI', 'FR', 'GR', 'GT', 'HN', 'HK', 'HU', 'IS', 'IE', 'IT', 'LV', 'LT', 'LU', 'MY', 'MT', 'MX', 'NL', 'NZ', 'NI', 'NO', 'PA', 'PY', 'PE', 'PH', 'PL', 'PT', 'SG', 'SK', 'ES', 'SE', 'CH', 'TW', 'TR', 'UY', 'US', 'GB', 'AD', 'LI', 'MC', 'ID'], 'images': [{'url': 'https://i.scdn.co/image/1c0637a5cfab1d2e605f0ec8ff33aa99bbebab38', 'width': 640, 'height': 640}, {'url': 'https://i.scdn.co/image/59914e47f7eea38ebada6ae81909e1bcea4cdd57', 'width': 300, 'height': 300}, {'url': 'https://i.scdn.co/image/0c68daeaeb4e84dbd25d6e4976aaa422e93d238c', 'width': 64, 'height': 64}]}, 'name': 'Hopeless Boy (feat. David Ortiz)', 'preview_url': 'https://p.scdn.co/mp3-preview/734cf86b202388c1db5f1ccd8855818ad79ad30d', 'external_ids': {'isrc': 'USASN1401183'}, 'artists': [{'type': 'artist', 'id': '6L3x3if9RVimruryD9LoFb', 'uri': 'spotify:artist:6L3x3if9RVimruryD9LoFb', 'href': 'https://api.spotify.com/v1/artists/6L3x3if9RVimruryD9LoFb', 'name': 'King Lil G', 'external_urls': {'spotify': 'https://open.spotify.com/artist/6L3x3if9RVimruryD9LoFb'}}, {'type': 'artist', 'id': '5ntrzTi4BYgO8N0Yuqn1ng', 'uri': 'spotify:artist:5ntrzTi4BYgO8N0Yuqn1ng', 'href': 'https://api.spotify.com/v1/artists/5ntrzTi4BYgO8N0Yuqn1ng', 'name': 'David Ortiz', 'external_urls': {'spotify': 'https://open.spotify.com/artist/5ntrzTi4BYgO8N0Yuqn1ng'}}], 'popularity': 55, 'duration_ms': 193786}, {'uri': 'spotify:track:3iwt15Ynm0cYicIGQ9hAr0', 'track_number': 2, 'external_urls': {'spotify': 'https://open.spotify.com/track/3iwt15Ynm0cYicIGQ9hAr0'}, 'disc_number': 1, 'available_markets': ['AR', 'AU', 'AT', 'BE', 'BO', 'BR', 'BG', 'CA', 'CL', 'CO', 'CR', 'CY', 'CZ', 'DK', 'DO', 'DE', 'EC', 'EE', 'SV', 'FI', 'FR', 'GR', 'GT', 'HN', 'HK', 'HU', 'IS', 'IE', 'IT', 'LV', 'LT', 'LU', 'MY', 'MT', 'MX', 'NL', 'NZ', 'NI', 'NO', 'PA', 'PY', 'PE', 'PH', 'PL', 'PT', 'SG', 'SK', 'ES', 'SE', 'CH', 'TW', 'TR', 'UY', 'US', 'GB', 'AD', 'LI', 'MC', 'ID'], 'explicit': True, 'type': 'track', 'id': '3iwt15Ynm0cYicIGQ9hAr0', 'href': 'https://api.spotify.com/v1/tracks/3iwt15Ynm0cYicIGQ9hAr0', 'album': {'type': 'album', 'id': '14gzpwKOba6QQ1HsYifM0a', 'uri': 'spotify:album:14gzpwKOba6QQ1HsYifM0a', 'href': 'https://api.spotify.com/v1/albums/14gzpwKOba6QQ1HsYifM0a', 'name': \"90's Kid\", 'album_type': 'album', 'external_urls': {'spotify': 'https://open.spotify.com/album/14gzpwKOba6QQ1HsYifM0a'}, 'available_markets': ['AR', 'AU', 'AT', 'BE', 'BO', 'BR', 'BG', 'CA', 'CL', 'CO', 'CR', 'CY', 'CZ', 'DK', 'DO', 'DE', 'EC', 'EE', 'SV', 'FI', 'FR', 'GR', 'GT', 'HN', 'HK', 'HU', 'IS', 'IE', 'IT', 'LV', 'LT', 'LU', 'MY', 'MT', 'MX', 'NL', 'NZ', 'NI', 'NO', 'PA', 'PY', 'PE', 'PH', 'PL', 'PT', 'SG', 'SK', 'ES', 'SE', 'CH', 'TW', 'TR', 'UY', 'US', 'GB', 'AD', 'LI', 'MC', 'ID'], 'images': [{'url': 'https://i.scdn.co/image/a642fb3016b081274cc95c2e28029d3b25889ef0', 'width': 640, 'height': 640}, {'url': 'https://i.scdn.co/image/c19dcb1b9f8817919022e3d95a428060758c8ec8', 'width': 300, 'height': 300}, {'url': 'https://i.scdn.co/image/fc0e6255f96dc6e0cbd118e1e71d0851a275f272', 'width': 64, 'height': 64}]}, 'name': 'Ignorance', 'preview_url': 'https://p.scdn.co/mp3-preview/b7962ea6c5d25c1ffdbe2c784761116df6e9c8d6', 'external_ids': {'isrc': 'USASN1500302'}, 'artists': [{'type': 'artist', 'id': '6L3x3if9RVimruryD9LoFb', 'uri': 'spotify:artist:6L3x3if9RVimruryD9LoFb', 'href': 'https://api.spotify.com/v1/artists/6L3x3if9RVimruryD9LoFb', 'name': 'King Lil G', 'external_urls': {'spotify': 'https://open.spotify.com/artist/6L3x3if9RVimruryD9LoFb'}}], 'popularity': 54, 'duration_ms': 166626}, {'uri': 'spotify:track:5oTzlrZ8WTDIHeTsz4Jw3z', 'track_number': 2, 'external_urls': {'spotify': 'https://open.spotify.com/track/5oTzlrZ8WTDIHeTsz4Jw3z'}, 'disc_number': 1, 'available_markets': ['AR', 'AU', 'AT', 'BE', 'BO', 'BR', 'BG', 'CA', 'CL', 'CO', 'CR', 'CY', 'CZ', 'DK', 'DO', 'DE', 'EC', 'EE', 'SV', 'FI', 'FR', 'GR', 'GT', 'HN', 'HK', 'HU', 'IS', 'IE', 'IT', 'LV', 'LT', 'LU', 'MY', 'MT', 'MX', 'NL', 'NZ', 'NI', 'NO', 'PA', 'PY', 'PE', 'PH', 'PL', 'PT', 'SG', 'SK', 'ES', 'SE', 'CH', 'TW', 'TR', 'UY', 'US', 'GB', 'AD', 'LI', 'MC', 'ID'], 'explicit': True, 'type': 'track', 'id': '5oTzlrZ8WTDIHeTsz4Jw3z', 'href': 'https://api.spotify.com/v1/tracks/5oTzlrZ8WTDIHeTsz4Jw3z', 'album': {'type': 'album', 'id': '3XHnTdk5nmiI9BXNXimEBG', 'uri': 'spotify:album:3XHnTdk5nmiI9BXNXimEBG', 'href': 'https://api.spotify.com/v1/albums/3XHnTdk5nmiI9BXNXimEBG', 'name': 'Ak47boyz', 'album_type': 'album', 'external_urls': {'spotify': 'https://open.spotify.com/album/3XHnTdk5nmiI9BXNXimEBG'}, 'available_markets': ['AR', 'AU', 'AT', 'BE', 'BO', 'BR', 'BG', 'CA', 'CL', 'CO', 'CR', 'CY', 'CZ', 'DK', 'DO', 'DE', 'EC', 'EE', 'SV', 'FI', 'FR', 'GR', 'GT', 'HN', 'HK', 'HU', 'IS', 'IE', 'IT', 'LV', 'LT', 'LU', 'MY', 'MT', 'MX', 'NL', 'NZ', 'NI', 'NO', 'PA', 'PY', 'PE', 'PH', 'PL', 'PT', 'SG', 'SK', 'ES', 'SE', 'CH', 'TW', 'TR', 'UY', 'US', 'GB', 'AD', 'LI', 'MC', 'ID'], 'images': [{'url': 'https://i.scdn.co/image/1c0637a5cfab1d2e605f0ec8ff33aa99bbebab38', 'width': 640, 'height': 640}, {'url': 'https://i.scdn.co/image/59914e47f7eea38ebada6ae81909e1bcea4cdd57', 'width': 300, 'height': 300}, {'url': 'https://i.scdn.co/image/0c68daeaeb4e84dbd25d6e4976aaa422e93d238c', 'width': 64, 'height': 64}]}, 'name': 'Ak47', 'preview_url': 'https://p.scdn.co/mp3-preview/1c0e026feb2d58555f99d8204fdee48b4d19a2b3', 'external_ids': {'isrc': 'USASN1401184'}, 'artists': [{'type': 'artist', 'id': '6L3x3if9RVimruryD9LoFb', 'uri': 'spotify:artist:6L3x3if9RVimruryD9LoFb', 'href': 'https://api.spotify.com/v1/artists/6L3x3if9RVimruryD9LoFb', 'name': 'King Lil G', 'external_urls': {'spotify': 'https://open.spotify.com/artist/6L3x3if9RVimruryD9LoFb'}}], 'popularity': 54, 'duration_ms': 227986}, {'uri': 'spotify:track:2av09FAN9J7IgxCQ6od4SF', 'track_number': 3, 'external_urls': {'spotify': 'https://open.spotify.com/track/2av09FAN9J7IgxCQ6od4SF'}, 'disc_number': 1, 'available_markets': ['AR', 'AU', 'AT', 'BE', 'BO', 'BR', 'BG', 'CA', 'CL', 'CO', 'CR', 'CY', 'CZ', 'DK', 'DO', 'DE', 'EC', 'EE', 'SV', 'FI', 'FR', 'GR', 'GT', 'HN', 'HK', 'HU', 'IS', 'IE', 'IT', 'LV', 'LT', 'LU', 'MY', 'MT', 'MX', 'NL', 'NZ', 'NI', 'NO', 'PA', 'PY', 'PE', 'PH', 'PL', 'PT', 'SG', 'SK', 'ES', 'SE', 'CH', 'TW', 'TR', 'UY', 'US', 'GB', 'AD', 'LI', 'MC', 'ID'], 'explicit': True, 'type': 'track', 'id': '2av09FAN9J7IgxCQ6od4SF', 'href': 'https://api.spotify.com/v1/tracks/2av09FAN9J7IgxCQ6od4SF', 'album': {'type': 'album', 'id': '14gzpwKOba6QQ1HsYifM0a', 'uri': 'spotify:album:14gzpwKOba6QQ1HsYifM0a', 'href': 'https://api.spotify.com/v1/albums/14gzpwKOba6QQ1HsYifM0a', 'name': \"90's Kid\", 'album_type': 'album', 'external_urls': {'spotify': 'https://open.spotify.com/album/14gzpwKOba6QQ1HsYifM0a'}, 'available_markets': ['AR', 'AU', 'AT', 'BE', 'BO', 'BR', 'BG', 'CA', 'CL', 'CO', 'CR', 'CY', 'CZ', 'DK', 'DO', 'DE', 'EC', 'EE', 'SV', 'FI', 'FR', 'GR', 'GT', 'HN', 'HK', 'HU', 'IS', 'IE', 'IT', 'LV', 'LT', 'LU', 'MY', 'MT', 'MX', 'NL', 'NZ', 'NI', 'NO', 'PA', 'PY', 'PE', 'PH', 'PL', 'PT', 'SG', 'SK', 'ES', 'SE', 'CH', 'TW', 'TR', 'UY', 'US', 'GB', 'AD', 'LI', 'MC', 'ID'], 'images': [{'url': 'https://i.scdn.co/image/a642fb3016b081274cc95c2e28029d3b25889ef0', 'width': 640, 'height': 640}, {'url': 'https://i.scdn.co/image/c19dcb1b9f8817919022e3d95a428060758c8ec8', 'width': 300, 'height': 300}, {'url': 'https://i.scdn.co/image/fc0e6255f96dc6e0cbd118e1e71d0851a275f272', 'width': 64, 'height': 64}]}, 'name': 'Grow Up (feat. Chikk)', 'preview_url': 'https://p.scdn.co/mp3-preview/ad5f4b940fa7c4dab93f5d0328a6341e3d208cbf', 'external_ids': {'isrc': 'USASN1500303'}, 'artists': [{'type': 'artist', 'id': '6L3x3if9RVimruryD9LoFb', 'uri': 'spotify:artist:6L3x3if9RVimruryD9LoFb', 'href': 'https://api.spotify.com/v1/artists/6L3x3if9RVimruryD9LoFb', 'name': 'King Lil G', 'external_urls': {'spotify': 'https://open.spotify.com/artist/6L3x3if9RVimruryD9LoFb'}}, {'type': 'artist', 'id': '4tXAYCJxzb9PlyZGVQeVXn', 'uri': 'spotify:artist:4tXAYCJxzb9PlyZGVQeVXn', 'href': 'https://api.spotify.com/v1/artists/4tXAYCJxzb9PlyZGVQeVXn', 'name': 'Chikk', 'external_urls': {'spotify': 'https://open.spotify.com/artist/4tXAYCJxzb9PlyZGVQeVXn'}}], 'popularity': 53, 'duration_ms': 187586}, {'uri': 'spotify:track:0a5sHdXW7XokUN5Gqgr1vb', 'track_number': 1, 'external_urls': {'spotify': 'https://open.spotify.com/track/0a5sHdXW7XokUN5Gqgr1vb'}, 'disc_number': 1, 'available_markets': ['AR', 'AU', 'AT', 'BE', 'BO', 'BR', 'BG', 'CA', 'CL', 'CO', 'CR', 'CY', 'CZ', 'DK', 'DO', 'DE', 'EC', 'EE', 'SV', 'FI', 'FR', 'GR', 'GT', 'HN', 'HK', 'HU', 'IS', 'IE', 'IT', 'LV', 'LT', 'LU', 'MY', 'MT', 'MX', 'NL', 'NZ', 'NI', 'NO', 'PA', 'PY', 'PE', 'PH', 'PL', 'PT', 'SG', 'SK', 'ES', 'SE', 'CH', 'TW', 'TR', 'UY', 'US', 'GB', 'AD', 'LI', 'MC', 'ID'], 'explicit': True, 'type': 'track', 'id': '0a5sHdXW7XokUN5Gqgr1vb', 'href': 'https://api.spotify.com/v1/tracks/0a5sHdXW7XokUN5Gqgr1vb', 'album': {'type': 'album', 'id': '4rXtpZpRBrfCWERJEzoCRb', 'uri': 'spotify:album:4rXtpZpRBrfCWERJEzoCRb', 'href': 'https://api.spotify.com/v1/albums/4rXtpZpRBrfCWERJEzoCRb', 'name': 'Lost In Smoke 2', 'album_type': 'album', 'external_urls': {'spotify': 'https://open.spotify.com/album/4rXtpZpRBrfCWERJEzoCRb'}, 'available_markets': ['AR', 'AU', 'AT', 'BE', 'BO', 'BR', 'BG', 'CA', 'CL', 'CO', 'CR', 'CY', 'CZ', 'DK', 'DO', 'DE', 'EC', 'EE', 'SV', 'FI', 'FR', 'GR', 'GT', 'HN', 'HK', 'HU', 'IS', 'IE', 'IT', 'LV', 'LT', 'LU', 'MY', 'MT', 'MX', 'NL', 'NZ', 'NI', 'NO', 'PA', 'PY', 'PE', 'PH', 'PL', 'PT', 'SG', 'SK', 'ES', 'SE', 'CH', 'TW', 'TR', 'UY', 'US', 'GB', 'AD', 'LI', 'MC', 'ID'], 'images': [{'url': 'https://i.scdn.co/image/e0e8425e45e0f33b804becc5001b46b05fe98dd8', 'width': 640, 'height': 640}, {'url': 'https://i.scdn.co/image/d2101a2b13dbcace85fdb14e8da5266f43c1feb4', 'width': 300, 'height': 300}, {'url': 'https://i.scdn.co/image/99b1e90cff3937cd402e860b3f1d31957238a6f4', 'width': 64, 'height': 64}]}, 'name': 'Cold Christmas', 'preview_url': 'https://p.scdn.co/mp3-preview/5135e2a4962905841a0d9b67dbb8654ea9662eec', 'external_ids': {'isrc': 'USE7D1600019'}, 'artists': [{'type': 'artist', 'id': '6L3x3if9RVimruryD9LoFb', 'uri': 'spotify:artist:6L3x3if9RVimruryD9LoFb', 'href': 'https://api.spotify.com/v1/artists/6L3x3if9RVimruryD9LoFb', 'name': 'King Lil G', 'external_urls': {'spotify': 'https://open.spotify.com/artist/6L3x3if9RVimruryD9LoFb'}}], 'popularity': 52, 'duration_ms': 242372}, {'uri': 'spotify:track:5542ZgcaVlugxNYM4E7wRf', 'track_number': 8, 'external_urls': {'spotify': 'https://open.spotify.com/track/5542ZgcaVlugxNYM4E7wRf'}, 'disc_number': 1, 'available_markets': ['AR', 'AU', 'AT', 'BE', 'BO', 'BR', 'BG', 'CA', 'CL', 'CO', 'CR', 'CY', 'CZ', 'DK', 'DO', 'DE', 'EC', 'EE', 'SV', 'FI', 'FR', 'GR', 'GT', 'HN', 'HK', 'HU', 'IS', 'IE', 'IT', 'LV', 'LT', 'LU', 'MY', 'MT', 'MX', 'NL', 'NZ', 'NI', 'NO', 'PA', 'PY', 'PE', 'PH', 'PL', 'PT', 'SG', 'SK', 'ES', 'SE', 'CH', 'TW', 'TR', 'UY', 'US', 'GB', 'AD', 'LI', 'MC', 'ID'], 'explicit': True, 'type': 'track', 'id': '5542ZgcaVlugxNYM4E7wRf', 'href': 'https://api.spotify.com/v1/tracks/5542ZgcaVlugxNYM4E7wRf', 'album': {'type': 'album', 'id': '0G17liCRw1GYfissTAdWlf', 'uri': 'spotify:album:0G17liCRw1GYfissTAdWlf', 'href': 'https://api.spotify.com/v1/albums/0G17liCRw1GYfissTAdWlf', 'name': 'Lost in Smoke', 'album_type': 'album', 'external_urls': {'spotify': 'https://open.spotify.com/album/0G17liCRw1GYfissTAdWlf'}, 'available_markets': ['AR', 'AU', 'AT', 'BE', 'BO', 'BR', 'BG', 'CA', 'CL', 'CO', 'CR', 'CY', 'CZ', 'DK', 'DO', 'DE', 'EC', 'EE', 'SV', 'FI', 'FR', 'GR', 'GT', 'HN', 'HK', 'HU', 'IS', 'IE', 'IT', 'LV', 'LT', 'LU', 'MY', 'MT', 'MX', 'NL', 'NZ', 'NI', 'NO', 'PA', 'PY', 'PE', 'PH', 'PL', 'PT', 'SG', 'SK', 'ES', 'SE', 'CH', 'TW', 'TR', 'UY', 'US', 'GB', 'AD', 'LI', 'MC', 'ID'], 'images': [{'url': 'https://i.scdn.co/image/6e810782c6c7a05cc50a4e121affe1bedb39be43', 'width': 640, 'height': 640}, {'url': 'https://i.scdn.co/image/508311289eb6b336f0c3bade308b7e37a7e83345', 'width': 300, 'height': 300}, {'url': 'https://i.scdn.co/image/ef0f9fa1fe3a2d528e35301e62c342ad434a796b', 'width': 64, 'height': 64}]}, 'name': 'Welcome to La', 'preview_url': 'https://p.scdn.co/mp3-preview/185b3eb4fe99711aa541776bf231e75fcfd0efa0', 'external_ids': {'isrc': 'USASN1302113'}, 'artists': [{'type': 'artist', 'id': '6L3x3if9RVimruryD9LoFb', 'uri': 'spotify:artist:6L3x3if9RVimruryD9LoFb', 'href': 'https://api.spotify.com/v1/artists/6L3x3if9RVimruryD9LoFb', 'name': 'King Lil G', 'external_urls': {'spotify': 'https://open.spotify.com/artist/6L3x3if9RVimruryD9LoFb'}}], 'popularity': 51, 'duration_ms': 216440}, {'uri': 'spotify:track:2YcgCfn4v62JvPvyTqxMxH', 'track_number': 15, 'external_urls': {'spotify': 'https://open.spotify.com/track/2YcgCfn4v62JvPvyTqxMxH'}, 'disc_number': 1, 'available_markets': ['AR', 'AU', 'AT', 'BE', 'BO', 'BR', 'BG', 'CA', 'CL', 'CO', 'CR', 'CY', 'CZ', 'DK', 'DO', 'DE', 'EC', 'EE', 'SV', 'FI', 'FR', 'GR', 'GT', 'HN', 'HK', 'HU', 'IS', 'IE', 'IT', 'LV', 'LT', 'LU', 'MY', 'MT', 'MX', 'NL', 'NZ', 'NI', 'NO', 'PA', 'PY', 'PE', 'PH', 'PL', 'PT', 'SG', 'SK', 'ES', 'SE', 'CH', 'TW', 'TR', 'UY', 'US', 'GB', 'AD', 'LI', 'MC', 'ID'], 'explicit': True, 'type': 'track', 'id': '2YcgCfn4v62JvPvyTqxMxH', 'href': 'https://api.spotify.com/v1/tracks/2YcgCfn4v62JvPvyTqxMxH', 'album': {'type': 'album', 'id': '4rXtpZpRBrfCWERJEzoCRb', 'uri': 'spotify:album:4rXtpZpRBrfCWERJEzoCRb', 'href': 'https://api.spotify.com/v1/albums/4rXtpZpRBrfCWERJEzoCRb', 'name': 'Lost In Smoke 2', 'album_type': 'album', 'external_urls': {'spotify': 'https://open.spotify.com/album/4rXtpZpRBrfCWERJEzoCRb'}, 'available_markets': ['AR', 'AU', 'AT', 'BE', 'BO', 'BR', 'BG', 'CA', 'CL', 'CO', 'CR', 'CY', 'CZ', 'DK', 'DO', 'DE', 'EC', 'EE', 'SV', 'FI', 'FR', 'GR', 'GT', 'HN', 'HK', 'HU', 'IS', 'IE', 'IT', 'LV', 'LT', 'LU', 'MY', 'MT', 'MX', 'NL', 'NZ', 'NI', 'NO', 'PA', 'PY', 'PE', 'PH', 'PL', 'PT', 'SG', 'SK', 'ES', 'SE', 'CH', 'TW', 'TR', 'UY', 'US', 'GB', 'AD', 'LI', 'MC', 'ID'], 'images': [{'url': 'https://i.scdn.co/image/e0e8425e45e0f33b804becc5001b46b05fe98dd8', 'width': 640, 'height': 640}, {'url': 'https://i.scdn.co/image/d2101a2b13dbcace85fdb14e8da5266f43c1feb4', 'width': 300, 'height': 300}, {'url': 'https://i.scdn.co/image/99b1e90cff3937cd402e860b3f1d31957238a6f4', 'width': 64, 'height': 64}]}, 'name': 'After My Death', 'preview_url': 'https://p.scdn.co/mp3-preview/e9ed2eb7bcf06b93b61550a204c18e42a1dbd097', 'external_ids': {'isrc': 'USE7D1600040'}, 'artists': [{'type': 'artist', 'id': '6L3x3if9RVimruryD9LoFb', 'uri': 'spotify:artist:6L3x3if9RVimruryD9LoFb', 'href': 'https://api.spotify.com/v1/artists/6L3x3if9RVimruryD9LoFb', 'name': 'King Lil G', 'external_urls': {'spotify': 'https://open.spotify.com/artist/6L3x3if9RVimruryD9LoFb'}}], 'popularity': 51, 'duration_ms': 192520}, {'uri': 'spotify:track:5cWvvagtENe3lGXS2VK0po', 'track_number': 4, 'external_urls': {'spotify': 'https://open.spotify.com/track/5cWvvagtENe3lGXS2VK0po'}, 'disc_number': 1, 'available_markets': ['AR', 'AU', 'AT', 'BE', 'BO', 'BR', 'BG', 'CA', 'CL', 'CO', 'CR', 'CY', 'CZ', 'DK', 'DO', 'DE', 'EC', 'EE', 'SV', 'FI', 'FR', 'GR', 'GT', 'HN', 'HK', 'HU', 'IS', 'IE', 'IT', 'LV', 'LT', 'LU', 'MY', 'MT', 'MX', 'NL', 'NZ', 'NI', 'NO', 'PA', 'PY', 'PE', 'PH', 'PL', 'PT', 'SG', 'SK', 'ES', 'SE', 'CH', 'TW', 'TR', 'UY', 'US', 'GB', 'AD', 'LI', 'MC', 'ID'], 'explicit': True, 'type': 'track', 'id': '5cWvvagtENe3lGXS2VK0po', 'href': 'https://api.spotify.com/v1/tracks/5cWvvagtENe3lGXS2VK0po', 'album': {'type': 'album', 'id': '3XHnTdk5nmiI9BXNXimEBG', 'uri': 'spotify:album:3XHnTdk5nmiI9BXNXimEBG', 'href': 'https://api.spotify.com/v1/albums/3XHnTdk5nmiI9BXNXimEBG', 'name': 'Ak47boyz', 'album_type': 'album', 'external_urls': {'spotify': 'https://open.spotify.com/album/3XHnTdk5nmiI9BXNXimEBG'}, 'available_markets': ['AR', 'AU', 'AT', 'BE', 'BO', 'BR', 'BG', 'CA', 'CL', 'CO', 'CR', 'CY', 'CZ', 'DK', 'DO', 'DE', 'EC', 'EE', 'SV', 'FI', 'FR', 'GR', 'GT', 'HN', 'HK', 'HU', 'IS', 'IE', 'IT', 'LV', 'LT', 'LU', 'MY', 'MT', 'MX', 'NL', 'NZ', 'NI', 'NO', 'PA', 'PY', 'PE', 'PH', 'PL', 'PT', 'SG', 'SK', 'ES', 'SE', 'CH', 'TW', 'TR', 'UY', 'US', 'GB', 'AD', 'LI', 'MC', 'ID'], 'images': [{'url': 'https://i.scdn.co/image/1c0637a5cfab1d2e605f0ec8ff33aa99bbebab38', 'width': 640, 'height': 640}, {'url': 'https://i.scdn.co/image/59914e47f7eea38ebada6ae81909e1bcea4cdd57', 'width': 300, 'height': 300}, {'url': 'https://i.scdn.co/image/0c68daeaeb4e84dbd25d6e4976aaa422e93d238c', 'width': 64, 'height': 64}]}, 'name': 'Windows Down (feat. Drummer Boy)', 'preview_url': 'https://p.scdn.co/mp3-preview/446eb19f1e1f12ad768a6818b5a86ed35ba322c9', 'external_ids': {'isrc': 'USASN1401186'}, 'artists': [{'type': 'artist', 'id': '6L3x3if9RVimruryD9LoFb', 'uri': 'spotify:artist:6L3x3if9RVimruryD9LoFb', 'href': 'https://api.spotify.com/v1/artists/6L3x3if9RVimruryD9LoFb', 'name': 'King Lil G', 'external_urls': {'spotify': 'https://open.spotify.com/artist/6L3x3if9RVimruryD9LoFb'}}, {'type': 'artist', 'id': '4vE0ADCdH854d1kss98REy', 'uri': 'spotify:artist:4vE0ADCdH854d1kss98REy', 'href': 'https://api.spotify.com/v1/artists/4vE0ADCdH854d1kss98REy', 'name': 'Drummer Boy', 'external_urls': {'spotify': 'https://open.spotify.com/artist/4vE0ADCdH854d1kss98REy'}}], 'popularity': 50, 'duration_ms': 210000}, {'uri': 'spotify:track:4j3LMem6RqLz79Pmb5wPLG', 'track_number': 2, 'external_urls': {'spotify': 'https://open.spotify.com/track/4j3LMem6RqLz79Pmb5wPLG'}, 'disc_number': 1, 'available_markets': ['AR', 'AU', 'AT', 'BE', 'BO', 'BR', 'BG', 'CA', 'CL', 'CO', 'CR', 'CY', 'CZ', 'DK', 'DO', 'DE', 'EC', 'EE', 'SV', 'FI', 'FR', 'GR', 'GT', 'HN', 'HK', 'HU', 'IS', 'IE', 'IT', 'LV', 'LT', 'LU', 'MY', 'MT', 'MX', 'NL', 'NZ', 'NI', 'NO', 'PA', 'PY', 'PE', 'PH', 'PL', 'PT', 'SG', 'SK', 'ES', 'SE', 'CH', 'TW', 'TR', 'UY', 'US', 'GB', 'AD', 'LI', 'MC', 'ID'], 'explicit': True, 'type': 'track', 'id': '4j3LMem6RqLz79Pmb5wPLG', 'href': 'https://api.spotify.com/v1/tracks/4j3LMem6RqLz79Pmb5wPLG', 'album': {'type': 'album', 'id': '4rXtpZpRBrfCWERJEzoCRb', 'uri': 'spotify:album:4rXtpZpRBrfCWERJEzoCRb', 'href': 'https://api.spotify.com/v1/albums/4rXtpZpRBrfCWERJEzoCRb', 'name': 'Lost In Smoke 2', 'album_type': 'album', 'external_urls': {'spotify': 'https://open.spotify.com/album/4rXtpZpRBrfCWERJEzoCRb'}, 'available_markets': ['AR', 'AU', 'AT', 'BE', 'BO', 'BR', 'BG', 'CA', 'CL', 'CO', 'CR', 'CY', 'CZ', 'DK', 'DO', 'DE', 'EC', 'EE', 'SV', 'FI', 'FR', 'GR', 'GT', 'HN', 'HK', 'HU', 'IS', 'IE', 'IT', 'LV', 'LT', 'LU', 'MY', 'MT', 'MX', 'NL', 'NZ', 'NI', 'NO', 'PA', 'PY', 'PE', 'PH', 'PL', 'PT', 'SG', 'SK', 'ES', 'SE', 'CH', 'TW', 'TR', 'UY', 'US', 'GB', 'AD', 'LI', 'MC', 'ID'], 'images': [{'url': 'https://i.scdn.co/image/e0e8425e45e0f33b804becc5001b46b05fe98dd8', 'width': 640, 'height': 640}, {'url': 'https://i.scdn.co/image/d2101a2b13dbcace85fdb14e8da5266f43c1feb4', 'width': 300, 'height': 300}, {'url': 'https://i.scdn.co/image/99b1e90cff3937cd402e860b3f1d31957238a6f4', 'width': 64, 'height': 64}]}, 'name': 'Room Full Of Smoke', 'preview_url': 'https://p.scdn.co/mp3-preview/490f1a66d92e062615f3914538b9b3882d0b855f', 'external_ids': {'isrc': 'USE7D1600038'}, 'artists': [{'type': 'artist', 'id': '6L3x3if9RVimruryD9LoFb', 'uri': 'spotify:artist:6L3x3if9RVimruryD9LoFb', 'href': 'https://api.spotify.com/v1/artists/6L3x3if9RVimruryD9LoFb', 'name': 'King Lil G', 'external_urls': {'spotify': 'https://open.spotify.com/artist/6L3x3if9RVimruryD9LoFb'}}], 'popularity': 50, 'duration_ms': 186425}, {'uri': 'spotify:track:1RXcXkfHRM0mr67t9sNsuT', 'track_number': 3, 'external_urls': {'spotify': 'https://open.spotify.com/track/1RXcXkfHRM0mr67t9sNsuT'}, 'disc_number': 1, 'available_markets': ['AR', 'AU', 'AT', 'BE', 'BO', 'BR', 'BG', 'CA', 'CL', 'CO', 'CR', 'CY', 'CZ', 'DK', 'DO', 'DE', 'EC', 'EE', 'SV', 'FI', 'FR', 'GR', 'GT', 'HN', 'HK', 'HU', 'IS', 'IE', 'IT', 'LV', 'LT', 'LU', 'MY', 'MT', 'MX', 'NL', 'NZ', 'NI', 'NO', 'PA', 'PY', 'PE', 'PH', 'PL', 'PT', 'SG', 'SK', 'ES', 'SE', 'CH', 'TW', 'TR', 'UY', 'US', 'GB', 'AD', 'LI', 'MC', 'ID'], 'explicit': False, 'type': 'track', 'id': '1RXcXkfHRM0mr67t9sNsuT', 'href': 'https://api.spotify.com/v1/tracks/1RXcXkfHRM0mr67t9sNsuT', 'album': {'type': 'album', 'id': '0HaEvVsikL92OCCWKWn8Pj', 'uri': 'spotify:album:0HaEvVsikL92OCCWKWn8Pj', 'href': 'https://api.spotify.com/v1/albums/0HaEvVsikL92OCCWKWn8Pj', 'name': 'King Enemy', 'album_type': 'album', 'external_urls': {'spotify': 'https://open.spotify.com/album/0HaEvVsikL92OCCWKWn8Pj'}, 'available_markets': ['AR', 'AU', 'AT', 'BE', 'BO', 'BR', 'BG', 'CA', 'CL', 'CO', 'CR', 'CY', 'CZ', 'DK', 'DO', 'DE', 'EC', 'EE', 'SV', 'FI', 'FR', 'GR', 'GT', 'HN', 'HK', 'HU', 'IS', 'IE', 'IT', 'LV', 'LT', 'LU', 'MY', 'MT', 'MX', 'NL', 'NZ', 'NI', 'NO', 'PA', 'PY', 'PE', 'PH', 'PL', 'PT', 'SG', 'SK', 'ES', 'SE', 'CH', 'TW', 'TR', 'UY', 'US', 'GB', 'AD', 'LI', 'MC', 'ID'], 'images': [{'url': 'https://i.scdn.co/image/c309a6ebe37cf1fe226f829d7ecc5cf52ef76b1d', 'width': 640, 'height': 640}, {'url': 'https://i.scdn.co/image/3fcc6688db539ddbb4d36fab4219746059e663e4', 'width': 300, 'height': 300}, {'url': 'https://i.scdn.co/image/74b2759ff7e479d999cbd36fdbeca101333df5f7', 'width': 64, 'height': 64}]}, 'name': 'Narco Corridos', 'preview_url': 'https://p.scdn.co/mp3-preview/d00b0d0523b89db2f00e5a687a856fbf3d01fd6f', 'external_ids': {'isrc': 'USASN1201240'}, 'artists': [{'type': 'artist', 'id': '6L3x3if9RVimruryD9LoFb', 'uri': 'spotify:artist:6L3x3if9RVimruryD9LoFb', 'href': 'https://api.spotify.com/v1/artists/6L3x3if9RVimruryD9LoFb', 'name': 'King Lil G', 'external_urls': {'spotify': 'https://open.spotify.com/artist/6L3x3if9RVimruryD9LoFb'}}], 'popularity': 49, 'duration_ms': 248013}]\n"
     ]
    }
   ],
   "source": [
    "king_lil_top_tracks = king_lil['tracks']\n",
    "print(king_lil_top_tracks)"
   ]
  },
  {
   "cell_type": "code",
   "execution_count": 39,
   "metadata": {
    "collapsed": false
   },
   "outputs": [
    {
     "name": "stdout",
     "output_type": "stream",
     "text": [
      "King Lil top track is/are:\n",
      "Hopeless Boy (feat. David Ortiz)\n",
      "Ignorance\n",
      "Ak47\n",
      "Grow Up (feat. Chikk)\n",
      "Cold Christmas\n",
      "Welcome to La\n",
      "After My Death\n",
      "Windows Down (feat. Drummer Boy)\n",
      "Room Full Of Smoke\n",
      "Narco Corridos\n"
     ]
    }
   ],
   "source": [
    "print(\"King Lil top track is/are:\")\n",
    "for top_tracks in king_lil_top_tracks:\n",
    "    print(top_tracks['name'])"
   ]
  },
  {
   "cell_type": "code",
   "execution_count": 40,
   "metadata": {
    "collapsed": false
   },
   "outputs": [
    {
     "name": "stdout",
     "output_type": "stream",
     "text": [
      "Lil Fate top track is/are:\n",
      "- Break A N**a Off\n",
      "King Lil top track is/are:\n",
      "- Hopeless Boy (feat. David Ortiz)\n",
      "- Ignorance\n",
      "- Ak47\n",
      "- Grow Up (feat. Chikk)\n",
      "- Cold Christmas\n",
      "- Welcome to La\n",
      "- After My Death\n",
      "- Windows Down (feat. Drummer Boy)\n",
      "- Room Full Of Smoke\n",
      "- Narco Corridos\n"
     ]
    }
   ],
   "source": [
    "for top_tracks in lil_fate_top_tracks:\n",
    "    print(\"Lil Fate top track is/are:\")\n",
    "    print(\"-\",top_tracks['name'])\n",
    "print(\"King Lil top track is/are:\")\n",
    "for top_tracks in king_lil_top_tracks:\n",
    "    print(\"-\",top_tracks['name'])"
   ]
  },
  {
   "cell_type": "markdown",
   "metadata": {},
   "source": [
    "# 6) Will the world explode if a musicians swears? Get an average popularity for their explicit songs vs. their non-explicit songs. How many minutes of explicit songs do they have? Non-explicit?"
   ]
  },
  {
   "cell_type": "code",
   "execution_count": 41,
   "metadata": {
    "collapsed": false
   },
   "outputs": [
    {
     "name": "stdout",
     "output_type": "stream",
     "text": [
      "There is 1 explicit track with a popularity of 20\n",
      "The average popularity of Lil Fate explicits songs is 20.0\n",
      "Lil fate has 3.633766666666667 minutes of explicit music\n",
      "Lil fate has 0.0 minutes of non-explicit music\n"
     ]
    }
   ],
   "source": [
    "import requests\n",
    "response = requests.get('https://api.spotify.com/v1/artists/6JUnsP7jmvYmdhbg7lTMQj/top-tracks?country=US')\n",
    "lil_fate = response.json()\n",
    "\n",
    "explicit_count = 0 \n",
    "non_explicit_count = 0\n",
    "popularity_explicit = 0\n",
    "popularity_non_explicit= 0\n",
    "minutes_explicit = 0\n",
    "minutes_non_explicit = 0\n",
    "\n",
    "for track in lil_fate_top_tracks:   \n",
    "    \n",
    "    if track['explicit'] == True:\n",
    "        explicit_count = explicit_count + 1\n",
    "        popularity_explicit = popularity_explicit + track['popularity']\n",
    "        minutes_explicit = minutes_explicit + track['duration_ms']\n",
    "        print(\"There is\", explicit_count, \"explicit track with a popularity of\", popularity_explicit)\n",
    "     \n",
    "    elif track['explicit'] == False:\n",
    "        non_explicit_count = non_explicit_count + 1\n",
    "        popularity_non_explicit = popularity_non_explicit + track['popularity']\n",
    "        minutes_non_explicit = minutes_non_explicit + track['duration_ms']\n",
    "        print(\"There is\", non_explicit_count ,\"non-explicit track with a popularity of\", popularity_non_explicit)\n",
    "\n",
    "print(\"The average popularity of Lil Fate explicits songs is\", popularity_explicit/explicit_count)   \n",
    "#Code below--> dividing it by zero because there are no non-explicit counts so it does not work\n",
    "#print(\"The average popularity of Lil Fate non-explicits songs is\", popularity_non_explicit/non_explicit_count)\n",
    "print(\"Lil fate has\", (minutes_explicit / 1000) /60 , \"minutes of explicit music\") #sounds weird. Not sure why I get this result\n",
    "print(\"Lil fate has\", (minutes_non_explicit / 1000) / 60, \"minutes of non-explicit music\")#sounds weird. Not sure why I get this result"
   ]
  },
  {
   "cell_type": "code",
   "execution_count": 42,
   "metadata": {
    "collapsed": false
   },
   "outputs": [
    {
     "name": "stdout",
     "output_type": "stream",
     "text": [
      "There is 1 explicit track with a popularity of 55\n",
      "There is 2 explicit track with a popularity of 109\n",
      "There is 3 explicit track with a popularity of 163\n",
      "There is 4 explicit track with a popularity of 216\n",
      "There is 5 explicit track with a popularity of 268\n",
      "There is 6 explicit track with a popularity of 319\n",
      "There is 7 explicit track with a popularity of 370\n",
      "There is 8 explicit track with a popularity of 420\n",
      "There is 9 explicit track with a popularity of 470\n",
      "There is 1 non-explicit track with a popularity of 49\n",
      "The average popularity of King lil explicits songs is 52.22222222222222\n",
      "The average popularity of King lil non-explicits songs is 49.0\n",
      "Lil King has 30.395683333333334 minutes of explicit music\n",
      "Lil King has 4.1335500000000005 minutes of non-explicit music\n"
     ]
    }
   ],
   "source": [
    "import requests\n",
    "response = requests.get('https://api.spotify.com/v1/artists/6L3x3if9RVimruryD9LoFb/top-tracks?country=US')\n",
    "king_lil = response.json()\n",
    "\n",
    "explicit_count = 0 \n",
    "non_explicit_count = 0\n",
    "popularity_explicit = 0\n",
    "popularity_non_explicit= 0\n",
    "minutes_explicit = 0\n",
    "minutes_non_explicit = 0\n",
    "\n",
    "for track in king_lil_top_tracks:    \n",
    "    if track['explicit'] == True:\n",
    "        explicit_count = explicit_count + 1\n",
    "        popularity_explicit = popularity_explicit + track['popularity']\n",
    "        minutes_explicit = minutes_explicit + track['duration_ms']\n",
    "        print(\"There is\", explicit_count, \"explicit track with a popularity of\", popularity_explicit)\n",
    "    \n",
    "\n",
    "    elif track['explicit'] == False:\n",
    "        non_explicit_count = non_explicit_count + 1\n",
    "        popularity_non_explicit = popularity_non_explicit + track['popularity']\n",
    "        minutes_non_explicit = minutes_non_explicit + track['duration_ms']\n",
    "        print(\"There is\", non_explicit_count ,\"non-explicit track with a popularity of\", popularity_non_explicit)\n",
    "\n",
    "\n",
    "print(\"The average popularity of King lil explicits songs is\", popularity_explicit/explicit_count)\n",
    "print(\"The average popularity of King lil non-explicits songs is\", popularity_non_explicit/non_explicit_count)\n",
    "print(\"Lil King has\", (minutes_explicit / 1000) / 60, \"minutes of explicit music\") #this number does not make sense but not sure what is wrong\n",
    "print(\"Lil King has\", (minutes_non_explicit /1000) / 60, \"minutes of non-explicit music\")#sounds weird. Not sure why I get this result"
   ]
  },
  {
   "cell_type": "markdown",
   "metadata": {},
   "source": [
    "# 7) Since we're talking about Lils, what about Biggies? How many total \"Biggie\" artists are there? How many total \"Lil\"s?"
   ]
  },
  {
   "cell_type": "code",
   "execution_count": 43,
   "metadata": {
    "collapsed": false
   },
   "outputs": [
    {
     "name": "stdout",
     "output_type": "stream",
     "text": [
      "dict_keys(['artists'])\n"
     ]
    }
   ],
   "source": [
    "response = requests.get('https://api.spotify.com/v1/search?q=Lil&type=artist&market=US')\n",
    "all_lil = response.json()\n",
    "print(all_lil.keys())"
   ]
  },
  {
   "cell_type": "code",
   "execution_count": 44,
   "metadata": {
    "collapsed": false
   },
   "outputs": [
    {
     "name": "stdout",
     "output_type": "stream",
     "text": [
      "dict_keys(['limit', 'items', 'href', 'next', 'offset', 'total', 'previous'])\n"
     ]
    }
   ],
   "source": [
    "print(all_lil['artists'].keys())"
   ]
  },
  {
   "cell_type": "code",
   "execution_count": 45,
   "metadata": {
    "collapsed": false
   },
   "outputs": [
    {
     "name": "stdout",
     "output_type": "stream",
     "text": [
      "4510\n"
     ]
    }
   ],
   "source": [
    "print(all_lil['artists']['total'])"
   ]
  },
  {
   "cell_type": "code",
   "execution_count": 46,
   "metadata": {
    "collapsed": false
   },
   "outputs": [
    {
     "name": "stdout",
     "output_type": "stream",
     "text": [
      "50\n"
     ]
    }
   ],
   "source": [
    "response = requests.get('https://api.spotify.com/v1/search?q=Biggie&type=artist&market=US')\n",
    "all_biggies = response.json()\n",
    "print(all_biggies['artists']['total'])"
   ]
  },
  {
   "cell_type": "markdown",
   "metadata": {},
   "source": [
    "# 7.2) If you made 1 request every 5 seconds, how long would it take to download information on all the Lils vs the Biggies?\n"
   ]
  },
  {
   "cell_type": "code",
   "execution_count": 47,
   "metadata": {
    "collapsed": true
   },
   "outputs": [],
   "source": [
    "#HELP!"
   ]
  },
  {
   "cell_type": "markdown",
   "metadata": {},
   "source": [
    "# 8) Out of the top 50 \"Lil\"s and the top 50 \"Biggie\"s, who is more popular on average?"
   ]
  },
  {
   "cell_type": "code",
   "execution_count": 48,
   "metadata": {
    "collapsed": false
   },
   "outputs": [
    {
     "name": "stdout",
     "output_type": "stream",
     "text": [
      "dict_keys(['limit', 'items', 'href', 'next', 'offset', 'total', 'previous'])\n"
     ]
    }
   ],
   "source": [
    "response = requests.get('https://api.spotify.com/v1/search?q=Biggie&type=artist&market=US&limit=50')\n",
    "biggies = response.json()\n",
    "print(biggies['artists'].keys())"
   ]
  },
  {
   "cell_type": "code",
   "execution_count": 49,
   "metadata": {
    "collapsed": false
   },
   "outputs": [
    {
     "name": "stdout",
     "output_type": "stream",
     "text": [
      "{'type': 'artist', 'id': '5me0Irg2ANcsgc93uaYrpb', 'uri': 'spotify:artist:5me0Irg2ANcsgc93uaYrpb', 'href': 'https://api.spotify.com/v1/artists/5me0Irg2ANcsgc93uaYrpb', 'genres': ['gangster rap', 'hardcore hip hop', 'hip hop', 'rap'], 'name': 'The Notorious B.I.G.', 'external_urls': {'spotify': 'https://open.spotify.com/artist/5me0Irg2ANcsgc93uaYrpb'}, 'followers': {'total': 974573, 'href': None}, 'popularity': 76, 'images': [{'url': 'https://i.scdn.co/image/3d44c609f22910dcd82cfd3311ed1e41bd37ca8f', 'width': 1000, 'height': 1250}, {'url': 'https://i.scdn.co/image/65d46631b7853a2c396558ff4569bb22b486bba3', 'width': 640, 'height': 800}, {'url': 'https://i.scdn.co/image/c84fa657bfda54a366cc3284ac38f8e0e7bbcc2b', 'width': 200, 'height': 250}, {'url': 'https://i.scdn.co/image/826db6d87e55e431df5cdf937a54fd224a65ff8f', 'width': 64, 'height': 80}]}\n"
     ]
    }
   ],
   "source": [
    "print(biggies['artists']['items'][0])"
   ]
  },
  {
   "cell_type": "code",
   "execution_count": 50,
   "metadata": {
    "collapsed": false
   },
   "outputs": [
    {
     "name": "stdout",
     "output_type": "stream",
     "text": [
      "The top 50 Biggies have an average score of popularity of 4\n"
     ]
    }
   ],
   "source": [
    "import math\n",
    "biggies_info = biggies['artists']['items']\n",
    "biggie_total= 0\n",
    "biggie_popularity= 0\n",
    "for biggie in biggies_info:\n",
    "    biggie_total= biggie_total + 1\n",
    "    biggie_popularity = biggie_popularity + biggie['popularity']\n",
    "print(\"The top 50 Biggies have an average score of popularity of\", math.ceil(biggie_popularity / biggie_total))"
   ]
  },
  {
   "cell_type": "code",
   "execution_count": 51,
   "metadata": {
    "collapsed": true
   },
   "outputs": [],
   "source": [
    "import requests\n",
    "response = requests.get('https://api.spotify.com/v1/search?q=Lil&type=artist&market=US&limit=50')\n",
    "Lil = response.json()"
   ]
  },
  {
   "cell_type": "code",
   "execution_count": 52,
   "metadata": {
    "collapsed": false
   },
   "outputs": [
    {
     "name": "stdout",
     "output_type": "stream",
     "text": [
      "The top 50 Lils have an average score of popularity of 47\n"
     ]
    }
   ],
   "source": [
    "import math\n",
    "Lil_info = Lil['artists']['items']\n",
    "lil_total= 0\n",
    "lil_popularity= 0\n",
    "for lil in Lil_info:\n",
    "    lil_total= lil_total + 1\n",
    "    lil_popularity = lil_popularity + lil['popularity']\n",
    "print(\"The top 50 Lils have an average score of popularity of\", math.ceil(lil_popularity / lil_total))"
   ]
  },
  {
   "cell_type": "markdown",
   "metadata": {},
   "source": [
    "# Lils Graphic"
   ]
  },
  {
   "cell_type": "code",
   "execution_count": 59,
   "metadata": {
    "collapsed": true
   },
   "outputs": [],
   "source": [
    "#This is the link to my graphic of the various popularities.\n",
    "#https://infogr.am/fd7c85b9-f59b-498d-829d-a6ead4fb6862\n"
   ]
  },
  {
   "cell_type": "code",
   "execution_count": null,
   "metadata": {
    "collapsed": true
   },
   "outputs": [],
   "source": []
  }
 ],
 "metadata": {
  "kernelspec": {
   "display_name": "Python 3",
   "language": "python",
   "name": "python3"
  },
  "language_info": {
   "codemirror_mode": {
    "name": "ipython",
    "version": 3
   },
   "file_extension": ".py",
   "mimetype": "text/x-python",
   "name": "python",
   "nbconvert_exporter": "python",
   "pygments_lexer": "ipython3",
   "version": "3.5.1"
  }
 },
 "nbformat": 4,
 "nbformat_minor": 0
}
