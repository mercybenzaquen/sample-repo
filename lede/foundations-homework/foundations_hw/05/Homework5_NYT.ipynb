{
 "cells": [
  {
   "cell_type": "markdown",
   "metadata": {},
   "source": [
    "# What books topped the Hardcover Fiction NYT best-sellers list on Mother's Day in 2009 and 2010? How about Father's Day?\n"
   ]
  },
  {
   "cell_type": "code",
   "execution_count": 105,
   "metadata": {
    "collapsed": true
   },
   "outputs": [],
   "source": [
    "#my IPA key b577eb5b46ad4bec8ee159c89208e220\n",
    "#base url http://api.nytimes.com/svc/books/{version}/lists"
   ]
  },
  {
   "cell_type": "code",
   "execution_count": 106,
   "metadata": {
    "collapsed": false
   },
   "outputs": [
    {
     "name": "stdout",
     "output_type": "stream",
     "text": [
      "dict_keys(['status', 'copyright', 'num_results', 'last_modified', 'results'])\n"
     ]
    }
   ],
   "source": [
    "import requests\n",
    "response = requests.get(\"http://api.nytimes.com/svc/books/v2/lists.json?list=hardcover-fiction&published-date=2009-05-10&api-key=b577eb5b46ad4bec8ee159c89208e220\")\n",
    "best_seller = response.json()\n",
    "print(best_seller.keys())\n"
   ]
  },
  {
   "cell_type": "code",
   "execution_count": 107,
   "metadata": {
    "collapsed": false
   },
   "outputs": [
    {
     "name": "stdout",
     "output_type": "stream",
     "text": [
      "<class 'dict'>\n"
     ]
    }
   ],
   "source": [
    "print(type(best_seller))"
   ]
  },
  {
   "cell_type": "code",
   "execution_count": 108,
   "metadata": {
    "collapsed": false
   },
   "outputs": [
    {
     "name": "stdout",
     "output_type": "stream",
     "text": [
      "<class 'list'>\n"
     ]
    }
   ],
   "source": [
    "print(type(best_seller['results']))"
   ]
  },
  {
   "cell_type": "code",
   "execution_count": 109,
   "metadata": {
    "collapsed": false
   },
   "outputs": [
    {
     "name": "stdout",
     "output_type": "stream",
     "text": [
      "20\n"
     ]
    }
   ],
   "source": [
    "print(len(best_seller['results']))"
   ]
  },
  {
   "cell_type": "code",
   "execution_count": 110,
   "metadata": {
    "collapsed": false
   },
   "outputs": [
    {
     "name": "stdout",
     "output_type": "stream",
     "text": [
      "{'list_name': 'Hardcover Fiction', 'isbns': [{'isbn10': '0446539740', 'isbn13': '9780446539746'}], 'display_name': 'Hardcover Fiction', 'amazon_product_url': 'http://www.amazon.com/First-Family-Maxwell-David-Baldacci/dp/0446539740?tag=thenewyorktim-20', 'weeks_on_list': 1, 'book_details': [{'primary_isbn13': '9780446546959', 'primary_isbn10': '044654695X', 'publisher': 'Grand Central', 'description': 'Former Secret Service agents, now P.I.’s, search for a child abducted from a party at Camp David.', 'price': 27.99, 'author': 'David Baldacci', 'title': 'FIRST FAMILY', 'contributor_note': '', 'contributor': 'by David Baldacci', 'age_group': ''}], 'asterisk': 0, 'bestsellers_date': '2009-04-25', 'reviews': [{'sunday_review_link': '', 'book_review_link': '', 'article_chapter_link': '', 'first_chapter_link': ''}], 'rank': 1, 'published_date': '2009-05-10', 'dagger': 0, 'rank_last_week': 0}\n"
     ]
    }
   ],
   "source": [
    "print(best_seller['results'][0])"
   ]
  },
  {
   "cell_type": "code",
   "execution_count": 111,
   "metadata": {
    "collapsed": false
   },
   "outputs": [
    {
     "name": "stdout",
     "output_type": "stream",
     "text": [
      "This books ranks # 1 on the list\n",
      "FIRST FAMILY\n",
      "This books ranks # 2 on the list\n",
      "TEA TIME FOR THE TRADITIONALLY BUILT\n",
      "This books ranks # 3 on the list\n",
      "LOITERING WITH INTENT\n",
      "This books ranks # 4 on the list\n",
      "JUST TAKE MY HEART\n",
      "This books ranks # 5 on the list\n",
      "THE PERFECT POISON\n",
      "This books ranks # 6 on the list\n",
      "THE HOST\n",
      "This books ranks # 7 on the list\n",
      "LOOK AGAIN\n",
      "This books ranks # 8 on the list\n",
      "DEADLOCK\n",
      "This books ranks # 9 on the list\n",
      "LONG LOST\n",
      "This books ranks # 10 on the list\n",
      "TURN COAT\n",
      "This books ranks # 11 on the list\n",
      "THE ASSOCIATE\n",
      "This books ranks # 12 on the list\n",
      "HANDLE WITH CARE\n",
      "This books ranks # 13 on the list\n",
      "THE HELP\n",
      "This books ranks # 14 on the list\n",
      "THE GUERNSEY LITERARY AND POTATO PEEL PIE SOCIETY\n",
      "This books ranks # 15 on the list\n",
      "FATALLY FLAKY\n",
      "This books ranks # 16 on the list\n",
      "ARTHAS\n",
      "This books ranks # 17 on the list\n",
      "A RELIABLE WIFE\n",
      "This books ranks # 18 on the list\n",
      "BORDERLINE\n",
      "This books ranks # 19 on the list\n",
      "ONE SECOND AFTER\n",
      "This books ranks # 20 on the list\n",
      "BONEMAN'S DAUGHTERS\n"
     ]
    }
   ],
   "source": [
    "mother_best_seller_results_2009 = best_seller['results']\n",
    "\n",
    "for item in mother_best_seller_results_2009:\n",
    "    print(\"This books ranks #\", item['rank'], \"on the list\") #just to make sure they are in order\n",
    "    for book in item['book_details']:\n",
    "        print(book['title'])\n",
    "    \n",
    "  "
   ]
  },
  {
   "cell_type": "code",
   "execution_count": 112,
   "metadata": {
    "collapsed": false
   },
   "outputs": [
    {
     "name": "stdout",
     "output_type": "stream",
     "text": [
      "The top 3 books in the Hardcover fiction NYT best-sellers on Mother's day 2009 were:\n",
      "FIRST FAMILY\n",
      "TEA TIME FOR THE TRADITIONALLY BUILT\n",
      "LOITERING WITH INTENT\n"
     ]
    }
   ],
   "source": [
    "print(\"The top 3 books in the Hardcover fiction NYT best-sellers on Mother's day 2009 were:\")\n",
    "for item in mother_best_seller_results_2009:\n",
    "    if item['rank']< 4: #to get top 3 books on the list\n",
    "        for book in item['book_details']:\n",
    "            print(book['title'])\n",
    "    "
   ]
  },
  {
   "cell_type": "code",
   "execution_count": 113,
   "metadata": {
    "collapsed": false
   },
   "outputs": [
    {
     "name": "stdout",
     "output_type": "stream",
     "text": [
      "dict_keys(['status', 'copyright', 'num_results', 'last_modified', 'results'])\n"
     ]
    }
   ],
   "source": [
    "import requests\n",
    "response = requests.get(\"http://api.nytimes.com/svc/books/v2/lists.json?list=hardcover-fiction&published-date=2010-05-09&api-key=b577eb5b46ad4bec8ee159c89208e220\")\n",
    "best_seller_2010 = response.json()\n",
    "print(best_seller.keys())"
   ]
  },
  {
   "cell_type": "code",
   "execution_count": 114,
   "metadata": {
    "collapsed": false
   },
   "outputs": [
    {
     "name": "stdout",
     "output_type": "stream",
     "text": [
      "{'list_name': 'Hardcover Fiction', 'isbns': [{'isbn10': '0446564079', 'isbn13': '9780446564076'}, {'isbn10': '0446576255', 'isbn13': '9780446576253'}, {'isbn10': '0892962615', 'isbn13': '9780892962617'}, {'isbn10': '0446564087', 'isbn13': '9780446564083'}], 'display_name': 'Hardcover Fiction', 'amazon_product_url': 'http://www.amazon.com/Deliver-Us-Evil-David-Baldacci/dp/0446564079?tag=thenewyorktim-20', 'weeks_on_list': 1, 'book_details': [{'primary_isbn13': '9780446564083', 'primary_isbn10': '0446564087', 'publisher': 'Grand Central', 'description': 'Two agents are tracking the same man, a human trafficker who is now dealing in nuclear arms.', 'price': 27.99, 'author': 'David Baldacci', 'title': 'DELIVER US FROM EVIL', 'contributor_note': '', 'contributor': 'by David Baldacci', 'age_group': ''}], 'asterisk': 0, 'bestsellers_date': '2010-04-25', 'reviews': [{'sunday_review_link': '', 'book_review_link': '', 'article_chapter_link': '', 'first_chapter_link': ''}], 'rank': 1, 'published_date': '2010-05-09', 'dagger': 0, 'rank_last_week': 0}\n"
     ]
    }
   ],
   "source": [
    "print(best_seller_2010['results'][0])"
   ]
  },
  {
   "cell_type": "code",
   "execution_count": 115,
   "metadata": {
    "collapsed": false
   },
   "outputs": [],
   "source": [
    "mother_best_seller_2010_results = best_seller_2010['results']"
   ]
  },
  {
   "cell_type": "code",
   "execution_count": 116,
   "metadata": {
    "collapsed": false
   },
   "outputs": [
    {
     "name": "stdout",
     "output_type": "stream",
     "text": [
      "The top 3 books in the Hardcover fiction NYT best-sellers on Mother's day 2010 were:\n",
      "DELIVER US FROM EVIL\n",
      "THE HELP\n",
      "THE DOUBLE COMFORT SAFARI CLUB\n"
     ]
    }
   ],
   "source": [
    "print(\"The top 3 books in the Hardcover fiction NYT best-sellers on Mother's day 2010 were:\")\n",
    "for item in mother_best_seller_2010_results:\n",
    "    if item['rank']< 4: #to get top 3 books on the list\n",
    "        for book in item['book_details']:\n",
    "            print(book['title'])\n",
    "    "
   ]
  },
  {
   "cell_type": "code",
   "execution_count": 117,
   "metadata": {
    "collapsed": false
   },
   "outputs": [],
   "source": [
    "import requests\n",
    "response = requests.get(\"http://api.nytimes.com/svc/books/v2/lists.json?list=hardcover-fiction&published-date=2009-06-21&api-key=b577eb5b46ad4bec8ee159c89208e220\")\n",
    "best_seller = response.json()\n"
   ]
  },
  {
   "cell_type": "code",
   "execution_count": 118,
   "metadata": {
    "collapsed": false
   },
   "outputs": [
    {
     "name": "stdout",
     "output_type": "stream",
     "text": [
      "The top 3 books in the Hardcover fiction NYT best-sellers on Father's day 2009 were:\n",
      "SKIN TRADE\n",
      "MEDUSA\n",
      "THE SCARECROW\n"
     ]
    }
   ],
   "source": [
    "father_best_seller_results_2009 = best_seller['results']\n",
    "print(\"The top 3 books in the Hardcover fiction NYT best-sellers on Father's day 2009 were:\")\n",
    "for item in father_best_seller_results_2009:\n",
    "    if item['rank']< 4: #to get top 3 books on the list\n",
    "        for book in item['book_details']:\n",
    "            print(book['title'])\n",
    "    "
   ]
  },
  {
   "cell_type": "code",
   "execution_count": 119,
   "metadata": {
    "collapsed": false
   },
   "outputs": [],
   "source": [
    "import requests\n",
    "response = requests.get(\"http://api.nytimes.com/svc/books/v2/lists.json?list=hardcover-fiction&published-date=2010-06-20&api-key=b577eb5b46ad4bec8ee159c89208e220\")\n",
    "best_seller = response.json()\n"
   ]
  },
  {
   "cell_type": "code",
   "execution_count": 120,
   "metadata": {
    "collapsed": false
   },
   "outputs": [
    {
     "name": "stdout",
     "output_type": "stream",
     "text": [
      "The top 3 books in the Hardcover fiction NYT best-sellers on Father's day 2010 were:\n",
      "THE GIRL WHO KICKED THE HORNET’S NEST\n",
      "BULLET\n",
      "THE SPY\n"
     ]
    }
   ],
   "source": [
    "father_best_seller_results_2010 = best_seller['results']\n",
    "print(\"The top 3 books in the Hardcover fiction NYT best-sellers on Father's day 2010 were:\")\n",
    "for item in father_best_seller_results_2010:\n",
    "    if item['rank']< 4: #to get top 3 books on the list\n",
    "        for book in item['book_details']:\n",
    "            print(book['title'])\n",
    "    "
   ]
  },
  {
   "cell_type": "markdown",
   "metadata": {},
   "source": [
    "# 2) What are all the different book categories the NYT ranked in June 6, 2009? How about June 6, 2015?"
   ]
  },
  {
   "cell_type": "code",
   "execution_count": 121,
   "metadata": {
    "collapsed": true
   },
   "outputs": [],
   "source": [
    "import requests\n",
    "response = requests.get(\"http://api.nytimes.com/svc/books/v2/lists/names.json?published-date=2009-06-06&api-key=b577eb5b46ad4bec8ee159c89208e220\")\n",
    "best_seller = response.json()\n",
    "\n"
   ]
  },
  {
   "cell_type": "code",
   "execution_count": 122,
   "metadata": {
    "collapsed": false
   },
   "outputs": [
    {
     "name": "stdout",
     "output_type": "stream",
     "text": [
      "dict_keys(['status', 'copyright', 'num_results', 'results'])\n"
     ]
    }
   ],
   "source": [
    "print(best_seller.keys())"
   ]
  },
  {
   "cell_type": "code",
   "execution_count": 123,
   "metadata": {
    "collapsed": false
   },
   "outputs": [
    {
     "name": "stdout",
     "output_type": "stream",
     "text": [
      "53\n"
     ]
    }
   ],
   "source": [
    "print(len(best_seller['results']))"
   ]
  },
  {
   "cell_type": "code",
   "execution_count": 124,
   "metadata": {
    "collapsed": true
   },
   "outputs": [],
   "source": [
    "book_categories_2009 = best_seller['results']\n"
   ]
  },
  {
   "cell_type": "code",
   "execution_count": 125,
   "metadata": {
    "collapsed": false
   },
   "outputs": [
    {
     "name": "stdout",
     "output_type": "stream",
     "text": [
      "Combined Print & E-Book Fiction\n",
      "Combined Print & E-Book Nonfiction\n",
      "Hardcover Fiction\n",
      "Hardcover Nonfiction\n",
      "Paperback Trade Fiction\n",
      "Paperback Mass-Market Fiction\n",
      "Paperback Nonfiction\n",
      "E-Book Fiction\n",
      "E-Book Nonfiction\n",
      "Hardcover Advice & Misc.\n",
      "Paperback Advice & Misc.\n",
      "Advice, How-To & Miscellaneous\n",
      "Children’s Chapter Books\n",
      "Children’s Middle Grade\n",
      "Children’s Middle Grade E-Book\n",
      "Children’s Middle Grade Hardcover\n",
      "Children’s Middle Grade Paperback\n",
      "Children’s Paperback Books\n",
      "Children’s Picture Books\n",
      "Children’s Series\n",
      "Young Adult\n",
      "Young Adult E-Book\n",
      "Young Adult Hardcover\n",
      "Young Adult Paperback\n",
      "Hardcover Graphic Books\n",
      "Paperback Graphic Books\n",
      "Manga\n",
      "Combined Hardcover & Paperback Fiction\n",
      "Combined Hardcover & Paperback Nonfiction\n",
      "Animals\n",
      "Business\n",
      "Celebrities\n",
      "Crime and Punishment\n",
      "Culture\n",
      "Education\n",
      "Espionage\n",
      "Expeditions\n",
      "Fashion, Manners and Customs\n",
      "Food and Diet\n",
      "Games and Activities\n",
      "Hardcover Business Books\n",
      "Health\n",
      "Humor\n",
      "Indigenous Americans\n",
      "Love and Relationships\n",
      "Paperback Business Books\n",
      "Parenthood and Family\n",
      "Politics and American History\n",
      "Race and Civil Rights\n",
      "Religion, Spirituality and Faith\n",
      "Science\n",
      "Sports and Fitness\n",
      "Travel\n"
     ]
    }
   ],
   "source": [
    "for item in book_categories_2009:\n",
    "    print(item['display_name'])"
   ]
  },
  {
   "cell_type": "code",
   "execution_count": 126,
   "metadata": {
    "collapsed": false
   },
   "outputs": [
    {
     "name": "stdout",
     "output_type": "stream",
     "text": [
      "53\n"
     ]
    }
   ],
   "source": [
    "import requests\n",
    "response = requests.get(\"http://api.nytimes.com/svc/books/v2/lists/names.json?published-date=2015-06-06&api-key=b577eb5b46ad4bec8ee159c89208e220\")\n",
    "best_seller = response.json()\n",
    "\n",
    "print(len(best_seller['results']))\n"
   ]
  },
  {
   "cell_type": "code",
   "execution_count": 127,
   "metadata": {
    "collapsed": false
   },
   "outputs": [
    {
     "name": "stdout",
     "output_type": "stream",
     "text": [
      "Combined Print & E-Book Fiction\n",
      "Combined Print & E-Book Nonfiction\n",
      "Hardcover Fiction\n",
      "Hardcover Nonfiction\n",
      "Paperback Trade Fiction\n",
      "Paperback Mass-Market Fiction\n",
      "Paperback Nonfiction\n",
      "E-Book Fiction\n",
      "E-Book Nonfiction\n",
      "Hardcover Advice & Misc.\n",
      "Paperback Advice & Misc.\n",
      "Advice, How-To & Miscellaneous\n",
      "Children’s Chapter Books\n",
      "Children’s Middle Grade\n",
      "Children’s Middle Grade E-Book\n",
      "Children’s Middle Grade Hardcover\n",
      "Children’s Middle Grade Paperback\n",
      "Children’s Paperback Books\n",
      "Children’s Picture Books\n",
      "Children’s Series\n",
      "Young Adult\n",
      "Young Adult E-Book\n",
      "Young Adult Hardcover\n",
      "Young Adult Paperback\n",
      "Hardcover Graphic Books\n",
      "Paperback Graphic Books\n",
      "Manga\n",
      "Combined Hardcover & Paperback Fiction\n",
      "Combined Hardcover & Paperback Nonfiction\n",
      "Animals\n",
      "Business\n",
      "Celebrities\n",
      "Crime and Punishment\n",
      "Culture\n",
      "Education\n",
      "Espionage\n",
      "Expeditions\n",
      "Fashion, Manners and Customs\n",
      "Food and Diet\n",
      "Games and Activities\n",
      "Hardcover Business Books\n",
      "Health\n",
      "Humor\n",
      "Indigenous Americans\n",
      "Love and Relationships\n",
      "Paperback Business Books\n",
      "Parenthood and Family\n",
      "Politics and American History\n",
      "Race and Civil Rights\n",
      "Religion, Spirituality and Faith\n",
      "Science\n",
      "Sports and Fitness\n",
      "Travel\n"
     ]
    }
   ],
   "source": [
    "book_categories_2015 = best_seller['results']\n",
    "for item in book_categories_2015:\n",
    "    print(item['display_name'])"
   ]
  },
  {
   "cell_type": "markdown",
   "metadata": {},
   "source": [
    "# 3) Muammar Gaddafi's name can be transliterated many many ways. His last name is often a source of a million and one versions - Gadafi, Gaddafi, Kadafi, and Qaddafi to name a few. How many times has the New York Times referred to him by each of those names?\n",
    "Tip: Add \"Libya\" to your search to make sure (-ish) you're talking about the right guy."
   ]
  },
  {
   "cell_type": "code",
   "execution_count": 128,
   "metadata": {
    "collapsed": false
   },
   "outputs": [
    {
     "name": "stdout",
     "output_type": "stream",
     "text": [
      "dict_keys(['status', 'copyright', 'response'])\n",
      "{'meta': {'hits': 0, 'offset': 0, 'time': 30}, 'docs': []}\n",
      "dict_keys(['meta', 'docs'])\n",
      "[]\n"
     ]
    }
   ],
   "source": [
    "import requests\n",
    "response = requests.get(\"http://api.nytimes.com/svc/search/v2/articlesearch.json?q=gadafi,libya&api-key=b577eb5b46ad4bec8ee159c89208e220\")\n",
    "gadafi = response.json()\n",
    "\n",
    "print(gadafi.keys())\n",
    "print(gadafi['response'])\n",
    "print(gadafi['response'].keys())\n",
    "print(gadafi['response']['docs']) #so no results for GADAFI. "
   ]
  },
  {
   "cell_type": "code",
   "execution_count": 129,
   "metadata": {
    "collapsed": false
   },
   "outputs": [
    {
     "name": "stdout",
     "output_type": "stream",
     "text": [
      "The New York times has not used the name Gadafi to refer to Muammar Gaddafi\n"
     ]
    }
   ],
   "source": [
    "print('The New York times has not used the name Gadafi to refer to Muammar Gaddafi')\n"
   ]
  },
  {
   "cell_type": "code",
   "execution_count": 130,
   "metadata": {
    "collapsed": false
   },
   "outputs": [
    {
     "name": "stdout",
     "output_type": "stream",
     "text": [
      "dict_keys(['status', 'copyright', 'response'])\n",
      "dict_keys(['meta', 'docs'])\n",
      "<class 'dict'>\n",
      "{'hits': 1020, 'offset': 0, 'time': 32}\n"
     ]
    }
   ],
   "source": [
    "import requests\n",
    "response = requests.get(\"http://api.nytimes.com/svc/search/v2/articlesearch.json?q=gaddafi,libya&api-key=b577eb5b46ad4bec8ee159c89208e220\")\n",
    "gaddafi = response.json()\n",
    "\n",
    "print(gaddafi.keys())\n",
    "print(gaddafi['response'].keys())\n",
    "print(type(gaddafi['response']['meta']))\n",
    "print(gaddafi['response']['meta'])"
   ]
  },
  {
   "cell_type": "code",
   "execution_count": 131,
   "metadata": {
    "collapsed": false
   },
   "outputs": [
    {
     "name": "stdout",
     "output_type": "stream",
     "text": [
      "'The New York times used the name Gaddafi to refer to Muammar Gaddafi 1020 times\n"
     ]
    }
   ],
   "source": [
    "print(\"'The New York times used the name Gaddafi to refer to Muammar Gaddafi\", gaddafi['response']['meta']['hits'], \"times\")"
   ]
  },
  {
   "cell_type": "code",
   "execution_count": 132,
   "metadata": {
    "collapsed": false
   },
   "outputs": [
    {
     "name": "stdout",
     "output_type": "stream",
     "text": [
      "dict_keys(['status', 'copyright', 'response'])\n",
      "dict_keys(['meta', 'docs'])\n",
      "<class 'dict'>\n",
      "{'hits': 3, 'offset': 0, 'time': 20}\n"
     ]
    }
   ],
   "source": [
    "import requests\n",
    "response = requests.get(\"http://api.nytimes.com/svc/search/v2/articlesearch.json?q=kadafi,libya&api-key=b577eb5b46ad4bec8ee159c89208e220\")\n",
    "kadafi = response.json()\n",
    "print(kadafi.keys())\n",
    "print(kadafi['response'].keys())\n",
    "print(type(kadafi['response']['meta']))\n",
    "print(kadafi['response']['meta'])\n"
   ]
  },
  {
   "cell_type": "code",
   "execution_count": 133,
   "metadata": {
    "collapsed": false
   },
   "outputs": [
    {
     "name": "stdout",
     "output_type": "stream",
     "text": [
      "'The New York times used the name Kadafi to refer to Muammar Gaddafi 3 times\n"
     ]
    }
   ],
   "source": [
    "print(\"'The New York times used the name Kadafi to refer to Muammar Gaddafi\", kadafi['response']['meta']['hits'], \"times\")"
   ]
  },
  {
   "cell_type": "code",
   "execution_count": 134,
   "metadata": {
    "collapsed": false
   },
   "outputs": [
    {
     "name": "stdout",
     "output_type": "stream",
     "text": [
      "dict_keys(['status', 'copyright', 'response'])\n",
      "dict_keys(['meta', 'docs'])\n",
      "<class 'dict'>\n",
      "{'hits': 5176, 'offset': 0, 'time': 58}\n"
     ]
    }
   ],
   "source": [
    "import requests\n",
    "response = requests.get(\"http://api.nytimes.com/svc/search/v2/articlesearch.json?q=qaddafi,libya&api-key=b577eb5b46ad4bec8ee159c89208e220\")\n",
    "qaddafi = response.json()\n",
    "\n",
    "print(qaddafi.keys())\n",
    "print(qaddafi['response'].keys())\n",
    "print(type(qaddafi['response']['meta']))\n",
    "print(qaddafi['response']['meta'])"
   ]
  },
  {
   "cell_type": "code",
   "execution_count": 135,
   "metadata": {
    "collapsed": false
   },
   "outputs": [
    {
     "name": "stdout",
     "output_type": "stream",
     "text": [
      "'The New York times used the name Qaddafi to refer to Muammar Gaddafi 5176 times\n"
     ]
    }
   ],
   "source": [
    "print(\"'The New York times used the name Qaddafi to refer to Muammar Gaddafi\", qaddafi['response']['meta']['hits'], \"times\")"
   ]
  },
  {
   "cell_type": "markdown",
   "metadata": {},
   "source": [
    "# 4) What's the title of the first story to mention the word 'hipster' in 1995? What's the first paragraph?"
   ]
  },
  {
   "cell_type": "code",
   "execution_count": 136,
   "metadata": {
    "collapsed": false
   },
   "outputs": [
    {
     "name": "stdout",
     "output_type": "stream",
     "text": [
      "dict_keys(['status', 'copyright', 'response'])\n",
      "dict_keys(['meta', 'docs'])\n",
      "{'news_desk': 'Style Desk', 'word_count': 81, 'multimedia': [], 'web_url': 'http://www.nytimes.com/1995/02/05/style/surfacing-sound.html', 'slideshow_credits': None, 'lead_paragraph': \"Portable record players with built-in speakers, from the 1960's, are the latest points on hipster score cards. In some cases, they are the only way to listen to many of the old LP or 45-r.p.m. recordings still around but not released on cassette or CD. Usually available in white plastic or metal, they can be found in flea markets and secondhand stores. One style has the arm cast in the shape of a cobra. (Don Hogan Charles/The New York Times)\", 'source': 'The New York Times', 'headline': {'kicker': 'SURFACING', 'main': 'SOUND'}, 'byline': None, 'type_of_material': 'News', 'blog': [], 'subsection_name': None, 'section_name': 'Style', '_id': '4fd1ecab8eb7c8105d73e5ad', 'keywords': [{'name': 'subject', 'value': 'RECORDING EQUIPMENT'}], 'abstract': None, 'print_page': '52', 'pub_date': '1995-02-05T00:00:00Z', 'document_type': 'article', 'snippet': \"Portable record players with built-in speakers, from the 1960's, are the latest points on hipster score cards. In some cases, they are the only way to listen to many of the old LP or 45-r.p.m. recordings still around but not released on cassette or...\"}\n"
     ]
    }
   ],
   "source": [
    "import requests\n",
    "response = requests.get(\"https://api.nytimes.com/svc/search/v2/articlesearch.json?q=hipster&begin_date=19950101&end_date=19953112&sort=oldest&api-key=b577eb5b46ad4bec8ee159c89208e220\")\n",
    "hipster = response.json()\n",
    "\n",
    "\n",
    "print(hipster.keys())\n",
    "print(hipster['response'].keys())\n",
    "print(hipster['response']['docs'][0])\n",
    "hipster_info= hipster['response']['docs']\n"
   ]
  },
  {
   "cell_type": "code",
   "execution_count": 137,
   "metadata": {
    "collapsed": false
   },
   "outputs": [
    {
     "name": "stdout",
     "output_type": "stream",
     "text": [
      "These articles all had the word hipster in them and were published in 1995\n",
      "SOUND 1995-02-05T00:00:00Z\n",
      "The Revenge of the Un-Hip 1995-02-05T00:00:00Z\n",
      "For Actors, a Casting Call And a Cautionary Note 1995-02-12T00:00:00Z\n",
      "Terminal Kitsch 1995-02-12T00:00:00Z\n",
      "From Lumpy Blue Mass To Chic Blue Line 1995-03-05T00:00:00Z\n",
      "Guys' Stuff (for Guys?) 1995-03-19T00:00:00Z\n",
      "Mixed Results From 2 Designers 1995-04-06T00:00:00Z\n",
      "Reviews/Fashion; Cool Rises to Intimidating Heights 1995-04-07T00:00:00Z\n",
      "Oswald and Mailer: The Eternal Basic Questions 1995-04-25T00:00:00Z\n",
      "By Design; Westward Ho! 1995-04-25T00:00:00Z\n"
     ]
    }
   ],
   "source": [
    "print('These articles all had the word hipster in them and were published in 1995') #ordered from oldest to newest\n",
    "for item in hipster_info:\n",
    "    print(item['headline']['main'], item['pub_date'])"
   ]
  },
  {
   "cell_type": "code",
   "execution_count": 138,
   "metadata": {
    "collapsed": false
   },
   "outputs": [
    {
     "name": "stdout",
     "output_type": "stream",
     "text": [
      "This is the first article to mention the word hispter in 1995 and was titled: SOUND and it was publised on: 1995-02-05T00:00:00Z\n",
      "This is the lead paragraph of SOUND Portable record players with built-in speakers, from the 1960's, are the latest points on hipster score cards. In some cases, they are the only way to listen to many of the old LP or 45-r.p.m. recordings still around but not released on cassette or CD. Usually available in white plastic or metal, they can be found in flea markets and secondhand stores. One style has the arm cast in the shape of a cobra. (Don Hogan Charles/The New York Times)\n"
     ]
    }
   ],
   "source": [
    "for item in hipster_info:\n",
    "    if item['headline']['main'] == \"SOUND\":\n",
    "        \n",
    "        print(\"This is the first article to mention the word hispter in 1995 and was titled:\", item['headline']['main'],\"and it was publised on:\", item['pub_date'])\n",
    "        print(\"This is the lead paragraph of\", item['headline']['main'],item['lead_paragraph'])\n",
    "        "
   ]
  },
  {
   "cell_type": "markdown",
   "metadata": {},
   "source": [
    "# 5) How many times was gay marriage mentioned in the NYT between 1950-1959, 1960-1969, 1970-1978, 1980-1989, 1990-2099, 2000-2009, and 2010-present?\n"
   ]
  },
  {
   "cell_type": "code",
   "execution_count": 139,
   "metadata": {
    "collapsed": false
   },
   "outputs": [
    {
     "name": "stdout",
     "output_type": "stream",
     "text": [
      "dict_keys(['status', 'copyright', 'response'])\n",
      "dict_keys(['meta', 'docs'])\n",
      "{'hits': 15849, 'offset': 0, 'time': 66}\n",
      "___________\n",
      "Gay marriage was mentioned 15849 between 1950-1959\n"
     ]
    }
   ],
   "source": [
    "import requests\n",
    "response = requests.get(\"https://api.nytimes.com/svc/search/v2/articlesearch.json?q='gay''marriage'&begin_date=19500101&end_date=19593112&api-key=b577eb5b46ad4bec8ee159c89208e220\")\n",
    "marriage_1959 = response.json()\n",
    "\n",
    "print(marriage_1959.keys())\n",
    "print(marriage_1959['response'].keys())\n",
    "print(marriage_1959['response']['meta'])\n",
    "print(\"___________\")\n",
    "print(\"Gay marriage was mentioned\", marriage_1959['response']['meta']['hits'], \"between 1950-1959\")"
   ]
  },
  {
   "cell_type": "code",
   "execution_count": 140,
   "metadata": {
    "collapsed": false
   },
   "outputs": [
    {
     "name": "stdout",
     "output_type": "stream",
     "text": [
      "dict_keys(['status', 'copyright', 'response'])\n",
      "dict_keys(['meta', 'docs'])\n",
      "{'hits': 15414, 'offset': 0, 'time': 53}\n",
      "___________\n",
      "Gay marriage was mentioned 15414 between 1960-1969\n"
     ]
    }
   ],
   "source": [
    "import requests\n",
    "response = requests.get(\"https://api.nytimes.com/svc/search/v2/articlesearch.json?q='gay''marriage'&begin_date=19600101&end_date=19693112&api-key=b577eb5b46ad4bec8ee159c89208e220\")\n",
    "marriage_1969 = response.json()\n",
    "\n",
    "print(marriage_1969.keys())\n",
    "print(marriage_1969['response'].keys())\n",
    "print(marriage_1969['response']['meta'])\n",
    "print(\"___________\")\n",
    "print(\"Gay marriage was mentioned\", marriage_1969['response']['meta']['hits'], \"between 1960-1969\")"
   ]
  },
  {
   "cell_type": "code",
   "execution_count": 141,
   "metadata": {
    "collapsed": false
   },
   "outputs": [
    {
     "name": "stdout",
     "output_type": "stream",
     "text": [
      "dict_keys(['status', 'copyright', 'response'])\n",
      "dict_keys(['meta', 'docs'])\n",
      "{'hits': 15060, 'offset': 0, 'time': 39}\n",
      "___________\n",
      "Gay marriage was mentioned 15060 between 1970-1978\n"
     ]
    }
   ],
   "source": [
    "import requests\n",
    "response = requests.get(\"https://api.nytimes.com/svc/search/v2/articlesearch.json?q='gay''marriage'&begin_date=19700101&end_date=19783112&api-key=b577eb5b46ad4bec8ee159c89208e220\")\n",
    "marriage_1978 = response.json()\n",
    "\n",
    "print(marriage_1978.keys())\n",
    "print(marriage_1978['response'].keys())\n",
    "print(marriage_1978['response']['meta'])\n",
    "print(\"___________\")\n",
    "print(\"Gay marriage was mentioned\", marriage_1978['response']['meta']['hits'], \"between 1970-1978\")"
   ]
  },
  {
   "cell_type": "code",
   "execution_count": 142,
   "metadata": {
    "collapsed": false
   },
   "outputs": [
    {
     "name": "stdout",
     "output_type": "stream",
     "text": [
      "dict_keys(['status', 'copyright', 'response'])\n",
      "dict_keys(['meta', 'docs'])\n",
      "{'hits': 14647, 'offset': 0, 'time': 60}\n",
      "___________\n",
      "Gay marriage was mentioned 14647 between 1980-1989\n"
     ]
    }
   ],
   "source": [
    "import requests\n",
    "response = requests.get(\"https://api.nytimes.com/svc/search/v2/articlesearch.json?q='gay''marriage'&begin_date=19800101&end_date=19893112&api-key=b577eb5b46ad4bec8ee159c89208e220\")\n",
    "marriage_1989 = response.json()\n",
    "\n",
    "print(marriage_1989.keys())\n",
    "print(marriage_1989['response'].keys())\n",
    "print(marriage_1989['response']['meta'])\n",
    "print(\"___________\")\n",
    "print(\"Gay marriage was mentioned\", marriage_1989['response']['meta']['hits'], \"between 1980-1989\")"
   ]
  },
  {
   "cell_type": "code",
   "execution_count": 143,
   "metadata": {
    "collapsed": false
   },
   "outputs": [
    {
     "name": "stdout",
     "output_type": "stream",
     "text": [
      "dict_keys(['status', 'copyright', 'response'])\n",
      "dict_keys(['meta', 'docs'])\n",
      "{'hits': 14281, 'offset': 0, 'time': 33}\n",
      "___________\n",
      "Gay marriage was mentioned 14281 between 1990-2000\n"
     ]
    }
   ],
   "source": [
    "import requests\n",
    "response = requests.get(\"https://api.nytimes.com/svc/search/v2/articlesearch.json?q='gay''marriage'&begin_date=19900101&end_date=20003112&api-key=b577eb5b46ad4bec8ee159c89208e220\")\n",
    "marriage_2000 = response.json()\n",
    "\n",
    "print(marriage_2000.keys())\n",
    "print(marriage_2000['response'].keys())\n",
    "print(marriage_2000['response']['meta'])\n",
    "print(\"___________\")\n",
    "print(\"Gay marriage was mentioned\", marriage_2000['response']['meta']['hits'], \"between 1990-2000\")"
   ]
  },
  {
   "cell_type": "code",
   "execution_count": 144,
   "metadata": {
    "collapsed": false
   },
   "outputs": [
    {
     "name": "stdout",
     "output_type": "stream",
     "text": [
      "dict_keys(['status', 'copyright', 'response'])\n",
      "dict_keys(['meta', 'docs'])\n",
      "{'hits': 13197, 'offset': 0, 'time': 29}\n",
      "___________\n",
      "Gay marriage was mentioned 13197 between 2000-2009\n"
     ]
    }
   ],
   "source": [
    "import requests\n",
    "response = requests.get(\"https://api.nytimes.com/svc/search/v2/articlesearch.json?q='gay''marriage'&begin_date=20000101&end_date=20093112&api-key=b577eb5b46ad4bec8ee159c89208e220\")\n",
    "marriage_2009 = response.json()\n",
    "\n",
    "print(marriage_2009.keys())\n",
    "print(marriage_2009['response'].keys())\n",
    "print(marriage_2009['response']['meta'])\n",
    "print(\"___________\")\n",
    "print(\"Gay marriage was mentioned\", marriage_2009['response']['meta']['hits'], \"between 2000-2009\")\n"
   ]
  },
  {
   "cell_type": "code",
   "execution_count": 145,
   "metadata": {
    "collapsed": false
   },
   "outputs": [
    {
     "name": "stdout",
     "output_type": "stream",
     "text": [
      "dict_keys(['status', 'copyright', 'response'])\n",
      "dict_keys(['meta', 'docs'])\n",
      "{'hits': 8401, 'offset': 0, 'time': 39}\n",
      "___________\n",
      "Gay marriage was mentioned 8401 between 2010-present\n"
     ]
    }
   ],
   "source": [
    "import requests\n",
    "response = requests.get(\"https://api.nytimes.com/svc/search/v2/articlesearch.json?q='gay''marriage'&begin_date=20100101&end_date=20160609&api-key=b577eb5b46ad4bec8ee159c89208e220\")\n",
    "marriage_2016 = response.json()\n",
    "\n",
    "print(marriage_2016.keys())\n",
    "print(marriage_2016['response'].keys())\n",
    "print(marriage_2016['response']['meta'])\n",
    "print(\"___________\")\n",
    "print(\"Gay marriage was mentioned\", marriage_2016['response']['meta']['hits'], \"between 2010-present\")\n",
    "\n"
   ]
  },
  {
   "cell_type": "markdown",
   "metadata": {},
   "source": [
    "# 6) What section talks about motorcycles the most?\n",
    "\n",
    "Tip: You'll be using facets"
   ]
  },
  {
   "cell_type": "code",
   "execution_count": 146,
   "metadata": {
    "collapsed": true
   },
   "outputs": [],
   "source": [
    "import requests\n",
    "response = requests.get(\"http://api.nytimes.com/svc/search/v2/articlesearch.json?q=motorcycles&facet_field=section_name&api-key=b577eb5b46ad4bec8ee159c89208e220\")\n",
    "motorcycles = response.json()\n",
    "\n"
   ]
  },
  {
   "cell_type": "code",
   "execution_count": 147,
   "metadata": {
    "collapsed": false
   },
   "outputs": [
    {
     "name": "stdout",
     "output_type": "stream",
     "text": [
      "dict_keys(['status', 'copyright', 'response'])\n"
     ]
    }
   ],
   "source": [
    "print(motorcycles.keys())"
   ]
  },
  {
   "cell_type": "code",
   "execution_count": 148,
   "metadata": {
    "collapsed": false
   },
   "outputs": [
    {
     "name": "stdout",
     "output_type": "stream",
     "text": [
      "dict_keys(['meta', 'docs', 'facets'])\n"
     ]
    }
   ],
   "source": [
    "print(motorcycles['response'].keys())"
   ]
  },
  {
   "cell_type": "code",
   "execution_count": 149,
   "metadata": {
    "collapsed": false
   },
   "outputs": [
    {
     "name": "stdout",
     "output_type": "stream",
     "text": [
      "[{'term': 'World', 'count': 1032}, {'term': 'New York and Region', 'count': 574}, {'term': 'U.S.', 'count': 474}, {'term': 'Automobiles', 'count': 367}, {'term': 'Business', 'count': 322}]\n"
     ]
    }
   ],
   "source": [
    "print(motorcycles['response']['facets']['section_name']['terms'])"
   ]
  },
  {
   "cell_type": "code",
   "execution_count": 150,
   "metadata": {
    "collapsed": false
   },
   "outputs": [
    {
     "name": "stdout",
     "output_type": "stream",
     "text": [
      "These are the sections that talk the most about motorcycles:\n",
      "_________________\n",
      "The World section mentioned motorcycle 1032 times\n",
      "The New York and Region section mentioned motorcycle 574 times\n",
      "The U.S. section mentioned motorcycle 474 times\n",
      "The Automobiles section mentioned motorcycle 367 times\n",
      "The Business section mentioned motorcycle 322 times\n"
     ]
    }
   ],
   "source": [
    "motorcycles_info= motorcycles['response']['facets']['section_name']['terms']\n",
    "print(\"These are the sections that talk the most about motorcycles:\")\n",
    "print(\"_________________\")\n",
    "for item in motorcycles_info:\n",
    "    print(\"The\",item['term'],\"section mentioned motorcycle\", item['count'], \"times\")\n"
   ]
  },
  {
   "cell_type": "code",
   "execution_count": 151,
   "metadata": {
    "collapsed": false
   },
   "outputs": [
    {
     "name": "stdout",
     "output_type": "stream",
     "text": [
      "World is the sections that talks the most about motorcycles, with 1032 mentions of the word\n"
     ]
    }
   ],
   "source": [
    "motorcycle_info= motorcycles['response']['facets']['section_name']['terms']\n",
    "most_motorcycle_section = 0\n",
    "section_name = \"\" \n",
    "for item in motorcycle_info:\n",
    "    if item['count']>most_motorcycle_section:\n",
    "        most_motorcycle_section = item['count']\n",
    "        section_name = item['term']\n",
    "\n",
    "print(section_name, \"is the sections that talks the most about motorcycles, with\", most_motorcycle_section, \"mentions of the word\")"
   ]
  },
  {
   "cell_type": "markdown",
   "metadata": {},
   "source": [
    "# 7) How many of the last 20 movies reviewed by the NYT were Critics' Picks? How about the last 40? The last 60?\n",
    "\n",
    "Tip: You really don't want to do this 3 separate times (1-20, 21-40 and 41-60) and add them together. What if, perhaps, you were able to figure out how to combine two lists? Then you could have a 1-20 list, a 1-40 list, and a 1-60 list, and then just run similar code for each of them."
   ]
  },
  {
   "cell_type": "code",
   "execution_count": 152,
   "metadata": {
    "collapsed": false
   },
   "outputs": [
    {
     "name": "stdout",
     "output_type": "stream",
     "text": [
      "dict_keys(['has_more', 'status', 'copyright', 'num_results', 'results'])\n"
     ]
    }
   ],
   "source": [
    "import requests\n",
    "response = requests.get('http://api.nytimes.com/svc/movies/v2/reviews/search.json?api-key=b577eb5b46ad4bec8ee159c89208e220')\n",
    "movies_reviews_20 = response.json()\n",
    "\n",
    "print(movies_reviews_20.keys())\n",
    "\n",
    "\n"
   ]
  },
  {
   "cell_type": "code",
   "execution_count": 153,
   "metadata": {
    "collapsed": false
   },
   "outputs": [
    {
     "name": "stdout",
     "output_type": "stream",
     "text": [
      "{'display_title': 'From Afar', 'date_updated': '2016-06-10 12:44:24', 'opening_date': None, 'mpaa_rating': '', 'publication_date': '2016-06-07', 'multimedia': {'type': 'mediumThreeByTwo210', 'height': 140, 'width': 210, 'src': 'https://static01.nyt.com/images/2016/06/08/arts/08FROMAFAR/08FROMAFAR-mediumThreeByTwo210.jpg'}, 'headline': 'Review: ‘From Afar,’ a Tale of Desire and Repression in Venezuela', 'byline': 'STEPHEN HOLDEN', 'critics_pick': 0, 'summary_short': 'A middle-aged gay man who lures young men from the streets develops an unlikely friendship with a tough, handsome teenager.', 'link': {'type': 'article', 'url': 'http://www.nytimes.com/2016/06/08/movies/from-afar-review.html', 'suggested_link_text': 'Read the New York Times Review of From Afar'}}\n"
     ]
    }
   ],
   "source": [
    "print(movies_reviews_20['results'][0])"
   ]
  },
  {
   "cell_type": "code",
   "execution_count": 154,
   "metadata": {
    "collapsed": false
   },
   "outputs": [
    {
     "name": "stdout",
     "output_type": "stream",
     "text": [
      "From Afar 0\n",
      "-------------NOT CRITICS PICK!\n",
      "The Fits 1\n",
      "-------------CRITICS PICK!\n",
      "Art Bastard 1\n",
      "-------------CRITICS PICK!\n",
      "Me Before You 0\n",
      "-------------NOT CRITICS PICK!\n",
      "Time to Choose 1\n",
      "-------------CRITICS PICK!\n",
      "Andron 0\n",
      "-------------NOT CRITICS PICK!\n",
      "Approaching the Unknown 0\n",
      "-------------NOT CRITICS PICK!\n",
      "The Final Master 1\n",
      "-------------CRITICS PICK!\n",
      "The God Cells 0\n",
      "-------------NOT CRITICS PICK!\n",
      "Gurukulam 0\n",
      "-------------NOT CRITICS PICK!\n",
      "The President 0\n",
      "-------------NOT CRITICS PICK!\n",
      "Teenage Mutant Ninja Turtles: Out of the Shadows 0\n",
      "-------------NOT CRITICS PICK!\n",
      "The Thoughts That Once We Had 1\n",
      "-------------CRITICS PICK!\n",
      "The Wailing 1\n",
      "-------------CRITICS PICK!\n",
      "The Witness 1\n",
      "-------------CRITICS PICK!\n",
      "Popstar: Never Stop Never Stopping 0\n",
      "-------------NOT CRITICS PICK!\n",
      "To Life 1\n",
      "-------------CRITICS PICK!\n",
      "Princess 1\n",
      "-------------CRITICS PICK!\n",
      "The Ones Below 0\n",
      "-------------NOT CRITICS PICK!\n",
      "Jia Zhangke, a Guy From Fenyang 1\n",
      "-------------CRITICS PICK!\n",
      "______________________\n",
      "There were 10 critics picks in the last 20 revies by the NYT\n"
     ]
    }
   ],
   "source": [
    "critics_pick = 0\n",
    "not_a_critics_pick = 0\n",
    "for item in movies_reviews_20['results']:\n",
    "    print(item['display_title'], item['critics_pick'])\n",
    "    if item['critics_pick'] == 1:\n",
    "        print(\"-------------CRITICS PICK!\")\n",
    "        critics_pick = critics_pick + 1\n",
    "    else:\n",
    "        print(\"-------------NOT CRITICS PICK!\")\n",
    "        not_a_critics_pick = not_a_critics_pick + 1\n",
    "print(\"______________________\")        \n",
    "print(\"There were\", critics_pick, \"critics picks in the last 20 revies by the NYT\")"
   ]
  },
  {
   "cell_type": "code",
   "execution_count": 155,
   "metadata": {
    "collapsed": false
   },
   "outputs": [
    {
     "name": "stdout",
     "output_type": "stream",
     "text": [
      "dict_keys(['has_more', 'status', 'copyright', 'num_results', 'results'])\n",
      "dict_keys(['has_more', 'status', 'copyright', 'num_results', 'results'])\n"
     ]
    }
   ],
   "source": [
    "import requests\n",
    "response = requests.get('http://api.nytimes.com/svc/movies/v2/reviews/search.json?offset=20&api-key=b577eb5b46ad4bec8ee159c89208e220')\n",
    "movies_reviews_40 = response.json()\n",
    "\n",
    "print(movies_reviews_40.keys())\n",
    "\n",
    "\n",
    "import requests\n",
    "response = requests.get('http://api.nytimes.com/svc/movies/v2/reviews/search.json?offset=60&api-key=b577eb5b46ad4bec8ee159c89208e220')\n",
    "movies_reviews_60 = response.json()\n",
    "\n",
    "print(movies_reviews_60.keys())"
   ]
  },
  {
   "cell_type": "code",
   "execution_count": 156,
   "metadata": {
    "collapsed": true
   },
   "outputs": [],
   "source": [
    "new_big_list = movies_reviews_20['results'] + movies_reviews_40['results'] + movies_reviews_60['results']"
   ]
  },
  {
   "cell_type": "code",
   "execution_count": 157,
   "metadata": {
    "collapsed": false
   },
   "outputs": [
    {
     "name": "stdout",
     "output_type": "stream",
     "text": [
      "{'display_title': 'From Afar', 'date_updated': '2016-06-10 12:44:24', 'opening_date': None, 'mpaa_rating': '', 'publication_date': '2016-06-07', 'multimedia': {'type': 'mediumThreeByTwo210', 'height': 140, 'width': 210, 'src': 'https://static01.nyt.com/images/2016/06/08/arts/08FROMAFAR/08FROMAFAR-mediumThreeByTwo210.jpg'}, 'headline': 'Review: ‘From Afar,’ a Tale of Desire and Repression in Venezuela', 'byline': 'STEPHEN HOLDEN', 'critics_pick': 0, 'summary_short': 'A middle-aged gay man who lures young men from the streets develops an unlikely friendship with a tough, handsome teenager.', 'link': {'type': 'article', 'url': 'http://www.nytimes.com/2016/06/08/movies/from-afar-review.html', 'suggested_link_text': 'Read the New York Times Review of From Afar'}}\n"
     ]
    }
   ],
   "source": [
    "print(new_big_list[0])"
   ]
  },
  {
   "cell_type": "code",
   "execution_count": 158,
   "metadata": {
    "collapsed": false
   },
   "outputs": [
    {
     "name": "stdout",
     "output_type": "stream",
     "text": [
      "60\n"
     ]
    }
   ],
   "source": [
    "print(len(new_big_list))"
   ]
  },
  {
   "cell_type": "code",
   "execution_count": 159,
   "metadata": {
    "collapsed": false
   },
   "outputs": [
    {
     "name": "stdout",
     "output_type": "stream",
     "text": [
      "From Afar 0\n",
      "-------------NOT CRITICS PICK!\n",
      "The Fits 1\n",
      "-------------CRITICS PICK!\n",
      "Art Bastard 1\n",
      "-------------CRITICS PICK!\n",
      "Me Before You 0\n",
      "-------------NOT CRITICS PICK!\n",
      "Time to Choose 1\n",
      "-------------CRITICS PICK!\n",
      "Andron 0\n",
      "-------------NOT CRITICS PICK!\n",
      "Approaching the Unknown 0\n",
      "-------------NOT CRITICS PICK!\n",
      "The Final Master 1\n",
      "-------------CRITICS PICK!\n",
      "The God Cells 0\n",
      "-------------NOT CRITICS PICK!\n",
      "Gurukulam 0\n",
      "-------------NOT CRITICS PICK!\n",
      "The President 0\n",
      "-------------NOT CRITICS PICK!\n",
      "Teenage Mutant Ninja Turtles: Out of the Shadows 0\n",
      "-------------NOT CRITICS PICK!\n",
      "The Thoughts That Once We Had 1\n",
      "-------------CRITICS PICK!\n",
      "The Wailing 1\n",
      "-------------CRITICS PICK!\n",
      "The Witness 1\n",
      "-------------CRITICS PICK!\n",
      "Popstar: Never Stop Never Stopping 0\n",
      "-------------NOT CRITICS PICK!\n",
      "To Life 1\n",
      "-------------CRITICS PICK!\n",
      "Princess 1\n",
      "-------------CRITICS PICK!\n",
      "The Ones Below 0\n",
      "-------------NOT CRITICS PICK!\n",
      "Jia Zhangke, a Guy From Fenyang 1\n",
      "-------------CRITICS PICK!\n",
      "Holy Hell 0\n",
      "-------------NOT CRITICS PICK!\n",
      "As I AM: The Life and Time$ of DJ AM 0\n",
      "-------------NOT CRITICS PICK!\n",
      "Chevalier 0\n",
      "-------------NOT CRITICS PICK!\n",
      "The Idol 0\n",
      "-------------NOT CRITICS PICK!\n",
      "Presenting Princess Shaw 1\n",
      "-------------CRITICS PICK!\n",
      "X-Men: Apocalypse 0\n",
      "-------------NOT CRITICS PICK!\n",
      "Alice Through the Looking Glass 0\n",
      "-------------NOT CRITICS PICK!\n",
      "Unlocking the Cage 0\n",
      "-------------NOT CRITICS PICK!\n",
      "Weiner 1\n",
      "-------------CRITICS PICK!\n",
      "Maggie's Plan 1\n",
      "-------------CRITICS PICK!\n",
      "Kaili Blues 0\n",
      "-------------NOT CRITICS PICK!\n",
      "Manhattan Night 0\n",
      "-------------NOT CRITICS PICK!\n",
      "The Other Side 1\n",
      "-------------CRITICS PICK!\n",
      "Almost Holy 0\n",
      "-------------NOT CRITICS PICK!\n",
      "The Angry Birds Movie 0\n",
      "-------------NOT CRITICS PICK!\n",
      "Ma Ma 0\n",
      "-------------NOT CRITICS PICK!\n",
      "A Moment of Silence 0\n",
      "-------------NOT CRITICS PICK!\n",
      "Welcome to Happiness 0\n",
      "-------------NOT CRITICS PICK!\n",
      "Neighbors 2: Sorority Rising 0\n",
      "-------------NOT CRITICS PICK!\n",
      "Pervert Park 0\n",
      "-------------NOT CRITICS PICK!\n",
      "Beautiful Something 0\n",
      "-------------NOT CRITICS PICK!\n",
      "Elstree 1976 1\n",
      "-------------CRITICS PICK!\n",
      "Those People 0\n",
      "-------------NOT CRITICS PICK!\n",
      "Bridgend 0\n",
      "-------------NOT CRITICS PICK!\n",
      "Rabin in His Own Words 0\n",
      "-------------NOT CRITICS PICK!\n",
      "Being Charlie 0\n",
      "-------------NOT CRITICS PICK!\n",
      "The Offering 0\n",
      "-------------NOT CRITICS PICK!\n",
      "Belladonna of Sadness 1\n",
      "-------------CRITICS PICK!\n",
      "Mad Tiger 0\n",
      "-------------NOT CRITICS PICK!\n",
      "Dark Horse 1\n",
      "-------------CRITICS PICK!\n",
      "Captain America: Civil War 0\n",
      "-------------NOT CRITICS PICK!\n",
      "Sin Alas 0\n",
      "-------------NOT CRITICS PICK!\n",
      "A Bigger Splash 1\n",
      "-------------CRITICS PICK!\n",
      "Baaghi 0\n",
      "-------------NOT CRITICS PICK!\n",
      "The Family Fang 0\n",
      "-------------NOT CRITICS PICK!\n",
      "L’Attesa (The Wait) 0\n",
      "-------------NOT CRITICS PICK!\n",
      "The Man Who Knew Infinity 0\n",
      "-------------NOT CRITICS PICK!\n",
      "Older Than Ireland 1\n",
      "-------------CRITICS PICK!\n",
      "A Beautiful Planet 0\n",
      "-------------NOT CRITICS PICK!\n",
      "The American Side 0\n",
      "-------------NOT CRITICS PICK!\n",
      "______________________\n",
      "There were 19 critics picks in the last 60 revies by the NYT\n"
     ]
    }
   ],
   "source": [
    "critics_pick = 0\n",
    "not_a_critics_pick = 0\n",
    "for item in new_big_list:\n",
    "    print(item['display_title'], item['critics_pick'])\n",
    "    if item['critics_pick'] == 1:\n",
    "        print(\"-------------CRITICS PICK!\")\n",
    "        critics_pick = critics_pick + 1\n",
    "    else:\n",
    "        print(\"-------------NOT CRITICS PICK!\")\n",
    "        not_a_critics_pick = not_a_critics_pick + 1\n",
    "print(\"______________________\")        \n",
    "print(\"There were\", critics_pick, \"critics picks in the last 60 revies by the NYT\")"
   ]
  },
  {
   "cell_type": "markdown",
   "metadata": {},
   "source": [
    "# 8) Out of the last 40 movie reviews from the NYT, which critic has written the most reviews?"
   ]
  },
  {
   "cell_type": "code",
   "execution_count": 160,
   "metadata": {
    "collapsed": false
   },
   "outputs": [
    {
     "name": "stdout",
     "output_type": "stream",
     "text": [
      "<class 'list'>\n",
      "{'display_title': 'From Afar', 'date_updated': '2016-06-10 12:44:24', 'opening_date': None, 'mpaa_rating': '', 'publication_date': '2016-06-07', 'multimedia': {'type': 'mediumThreeByTwo210', 'height': 140, 'width': 210, 'src': 'https://static01.nyt.com/images/2016/06/08/arts/08FROMAFAR/08FROMAFAR-mediumThreeByTwo210.jpg'}, 'headline': 'Review: ‘From Afar,’ a Tale of Desire and Repression in Venezuela', 'byline': 'STEPHEN HOLDEN', 'critics_pick': 0, 'summary_short': 'A middle-aged gay man who lures young men from the streets develops an unlikely friendship with a tough, handsome teenager.', 'link': {'type': 'article', 'url': 'http://www.nytimes.com/2016/06/08/movies/from-afar-review.html', 'suggested_link_text': 'Read the New York Times Review of From Afar'}}\n",
      "STEPHEN HOLDEN\n",
      "MANOHLA DARGIS\n",
      "STEPHEN HOLDEN\n",
      "A. O. SCOTT\n",
      "STEPHEN HOLDEN\n",
      "NEIL GENZLINGER\n",
      "BEN KENIGSBERG\n",
      "GLENN KENNY\n",
      "NEIL GENZLINGER\n",
      "HELEN T. VERONGOS\n",
      "BEN KENIGSBERG\n",
      "GLENN KENNY\n",
      "JEANNETTE CATSOULIS\n",
      "GLENN KENNY\n",
      "ANDY WEBSTER\n",
      "A. O. SCOTT\n",
      "HELEN T. VERONGOS\n",
      "JEANNETTE CATSOULIS\n",
      "ANDY WEBSTER\n",
      "GLENN KENNY\n",
      "KEN JAWOROWSKI\n",
      "ANDY WEBSTER\n",
      "A. O. SCOTT\n",
      "NICOLAS RAPOLD\n",
      "STEPHEN HOLDEN\n",
      "GLENN KENNY\n",
      "STEPHEN HOLDEN\n",
      "A. O. SCOTT\n",
      "STEPHEN HOLDEN\n",
      "A. O. SCOTT\n",
      "KEN JAWOROWSKI\n",
      "STEPHEN HOLDEN\n",
      "GLENN KENNY\n",
      "BEN KENIGSBERG\n",
      "GLENN KENNY\n",
      "ANDY WEBSTER\n",
      "HELEN T. VERONGOS\n",
      "NEIL GENZLINGER\n",
      "JEANNETTE CATSOULIS\n",
      "KEN JAWOROWSKI\n"
     ]
    }
   ],
   "source": [
    "medium_list = movies_reviews_20['results'] + movies_reviews_40['results']\n",
    "print(type(medium_list))\n",
    "print(medium_list[0])\n",
    "for item in medium_list:\n",
    "    print(item['byline'])\n",
    "    \n"
   ]
  },
  {
   "cell_type": "code",
   "execution_count": 161,
   "metadata": {
    "collapsed": false
   },
   "outputs": [
    {
     "name": "stdout",
     "output_type": "stream",
     "text": [
      "['STEPHEN HOLDEN', 'MANOHLA DARGIS', 'STEPHEN HOLDEN', 'A. O. SCOTT', 'STEPHEN HOLDEN', 'NEIL GENZLINGER', 'BEN KENIGSBERG', 'GLENN KENNY', 'NEIL GENZLINGER', 'HELEN T. VERONGOS', 'BEN KENIGSBERG', 'GLENN KENNY', 'JEANNETTE CATSOULIS', 'GLENN KENNY', 'ANDY WEBSTER', 'A. O. SCOTT', 'HELEN T. VERONGOS', 'JEANNETTE CATSOULIS', 'ANDY WEBSTER', 'GLENN KENNY', 'KEN JAWOROWSKI', 'ANDY WEBSTER', 'A. O. SCOTT', 'NICOLAS RAPOLD', 'STEPHEN HOLDEN', 'GLENN KENNY', 'STEPHEN HOLDEN', 'A. O. SCOTT', 'STEPHEN HOLDEN', 'A. O. SCOTT', 'KEN JAWOROWSKI', 'STEPHEN HOLDEN', 'GLENN KENNY', 'BEN KENIGSBERG', 'GLENN KENNY', 'ANDY WEBSTER', 'HELEN T. VERONGOS', 'NEIL GENZLINGER', 'JEANNETTE CATSOULIS', 'KEN JAWOROWSKI']\n",
      "{'HELEN T. VERONGOS', 'JEANNETTE CATSOULIS', 'MANOHLA DARGIS', 'KEN JAWOROWSKI', 'NICOLAS RAPOLD', 'STEPHEN HOLDEN', 'ANDY WEBSTER', 'A. O. SCOTT', 'BEN KENIGSBERG', 'NEIL GENZLINGER', 'GLENN KENNY'}\n",
      "___________________________________________________\n",
      "This is a list of the authors who have written the NYT last 40 movie reviews, in descending order:\n",
      "Counter({'GLENN KENNY': 7, 'STEPHEN HOLDEN': 7, 'A. O. SCOTT': 5, 'ANDY WEBSTER': 4, 'HELEN T. VERONGOS': 3, 'JEANNETTE CATSOULIS': 3, 'KEN JAWOROWSKI': 3, 'NEIL GENZLINGER': 3, 'BEN KENIGSBERG': 3, 'MANOHLA DARGIS': 1, 'NICOLAS RAPOLD': 1})\n",
      "___________________________________________________\n",
      "This is a list of the top 3 authors who have written the NYT last 40 movie reviews:\n"
     ]
    },
    {
     "data": {
      "text/plain": [
       "[('GLENN KENNY', 7), ('STEPHEN HOLDEN', 7), ('A. O. SCOTT', 5)]"
      ]
     },
     "execution_count": 161,
     "metadata": {},
     "output_type": "execute_result"
    }
   ],
   "source": [
    "all_critics = []\n",
    "for item in medium_list:\n",
    "    all_critics.append(item['byline'])\n",
    "print(all_critics)\n",
    "\n",
    "unique_medium_list = set(all_critics)\n",
    "print(unique_medium_list)\n",
    "\n",
    "print(\"___________________________________________________\")\n",
    "\n",
    "print(\"This is a list of the authors who have written the NYT last 40 movie reviews, in descending order:\")\n",
    "from collections import Counter\n",
    "count = Counter(all_critics)\n",
    "print(count)\n",
    "\n",
    "print(\"___________________________________________________\")\n",
    "\n",
    "\n",
    "print(\"This is a list of the top 3 authors who have written the NYT last 40 movie reviews:\")\n",
    "count.most_common(3)\n"
   ]
  },
  {
   "cell_type": "code",
   "execution_count": null,
   "metadata": {
    "collapsed": false
   },
   "outputs": [],
   "source": [
    "\n",
    "    "
   ]
  },
  {
   "cell_type": "code",
   "execution_count": null,
   "metadata": {
    "collapsed": true
   },
   "outputs": [],
   "source": []
  }
 ],
 "metadata": {
  "kernelspec": {
   "display_name": "Python 3",
   "language": "python",
   "name": "python3"
  },
  "language_info": {
   "codemirror_mode": {
    "name": "ipython",
    "version": 3
   },
   "file_extension": ".py",
   "mimetype": "text/x-python",
   "name": "python",
   "nbconvert_exporter": "python",
   "pygments_lexer": "ipython3",
   "version": "3.5.1"
  }
 },
 "nbformat": 4,
 "nbformat_minor": 0
}
